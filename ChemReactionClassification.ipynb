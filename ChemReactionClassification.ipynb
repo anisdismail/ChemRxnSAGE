{
  "cells": [
    {
      "cell_type": "markdown",
      "metadata": {
        "id": "YQD0aUUMpCDD"
      },
      "source": [
        "# Chemical Reactions Type Prediction\n",
        "In this notebook, I will be going to investigate the prediction of reaction types based on the USPTO-15K dataset for chemical reactions.\n"
      ]
    },
    {
      "cell_type": "markdown",
      "metadata": {
        "id": "RVHEXE9ZzWTS"
      },
      "source": [
        "## Checking GPU Type"
      ]
    },
    {
      "cell_type": "code",
      "execution_count": 1,
      "metadata": {
        "colab": {
          "base_uri": "https://localhost:8080/"
        },
        "id": "RcnWS4TP7MHZ",
        "outputId": "3a0a4676-e912-4e61-ec0e-1d7600334b2b"
      },
      "outputs": [],
      "source": [
        "import numpy as np\n",
        "import os\n",
        "import random\n",
        "import torch\n",
        "model_path = os.path.join(\"model_weights\", \"reaction_classifier\")\n",
        "data_path = \"Liu_Kheyer_Retrosynthesis_Data\""
      ]
    },
    {
      "cell_type": "code",
      "execution_count": null,
      "metadata": {},
      "outputs": [],
      "source": [
        "SEED = 42\n",
        "# fix seeds\n",
        "torch.manual_seed(SEED)\n",
        "np.random.seed(SEED)\n",
        "random.seed(SEED)"
      ]
    },
    {
      "cell_type": "markdown",
      "metadata": {
        "id": "KMYFFUWjq2yC"
      },
      "source": [
        "## Data Extraction and Exploration\n",
        "We will be using the data processed by Liu et Al:\n",
        "<br>\n",
        "We need first to preprocess the existing data into a suitable format for our model:\n",
        "1. Load the data into Pandas dataframes\n",
        "2. Seperate the reaction type from the reactants data\n",
        "3. Load the reactants, products, reaction types into the same dataframe\n"
      ]
    },
    {
      "cell_type": "code",
      "execution_count": null,
      "metadata": {
        "id": "kOnQHL8r_37r"
      },
      "outputs": [],
      "source": [
        "train_path = os.path.join(data_path, \"train\")\n",
        "validation_path = os.path.join(data_path, \"validation\")\n",
        "test_path = os.path.join(data_path, \"test\")"
      ]
    },
    {
      "cell_type": "code",
      "execution_count": null,
      "metadata": {
        "id": "RwB4LNRoikVW"
      },
      "outputs": [],
      "source": [
        "import pandas as pd\n",
        "train_reactants_df = pd.read_csv(os.path.join(\n",
        "    train_path, \"train_targets.txt\"), header=None)\n",
        "train_products_df = pd.read_csv(os.path.join(\n",
        "    train_path, \"train_sources.txt\"), header=None)"
      ]
    },
    {
      "cell_type": "code",
      "execution_count": null,
      "metadata": {
        "id": "1BBefORggJwE"
      },
      "outputs": [],
      "source": [
        "def process_dfs(react_df, prod_df):\n",
        "    react_df_n = react_df.copy()\n",
        "    prod_df_n = prod_df.copy()\n",
        "    prod_df_n.rename(columns={0: \"products\"}, inplace=True)\n",
        "    react_df_n.rename(columns={0: \"reactants\"}, inplace=True)\n",
        "    prod_df_n[\"reaction_type\"] = prod_df_n[\"products\"].str.extract(\n",
        "        r\"(\\<RX_.*\\>)\")\n",
        "    prod_df_n[\"products\"] = prod_df_n[\"products\"].str.replace(\n",
        "        r\"(\\<RX_.*\\>)\", \"\")\n",
        "    df = pd.concat([react_df_n, prod_df_n], axis=1)\n",
        "    return df\n",
        "\n",
        "\n",
        "def prepare_whole_reaction_padded(df):\n",
        "    df[\"full_input_format\"] = df[\"reactants\"].str.replace(\n",
        "        \" \", \"\")+\">>\"+df[\"products\"].str.replace(\" \", \"\")\n",
        "\n",
        "\n",
        "df = process_dfs(train_reactants_df, train_products_df)\n",
        "prepare_whole_reaction_padded(df)\n",
        "df[df[\"products\"] ==\n",
        "    df[\"products\"].value_counts()\n",
        "    .index[0]]"
      ]
    },
    {
      "cell_type": "code",
      "execution_count": null,
      "metadata": {
        "colab": {
          "base_uri": "https://localhost:8080/",
          "height": 136
        },
        "id": "pwquNCVSQBx1",
        "outputId": "656bca64-03c2-41ba-8d53-c8cfd91f64d8"
      },
      "outputs": [
        {
          "data": {
            "text/html": [
              "<div>\n",
              "<style scoped>\n",
              "    .dataframe tbody tr th:only-of-type {\n",
              "        vertical-align: middle;\n",
              "    }\n",
              "\n",
              "    .dataframe tbody tr th {\n",
              "        vertical-align: top;\n",
              "    }\n",
              "\n",
              "    .dataframe thead th {\n",
              "        text-align: right;\n",
              "    }\n",
              "</style>\n",
              "<table border=\"1\" class=\"dataframe\">\n",
              "  <thead>\n",
              "    <tr style=\"text-align: right;\">\n",
              "      <th></th>\n",
              "      <th>reactants</th>\n",
              "      <th>products</th>\n",
              "      <th>reaction_type</th>\n",
              "    </tr>\n",
              "  </thead>\n",
              "  <tbody>\n",
              "    <tr>\n",
              "      <th>1305</th>\n",
              "      <td>C C ( C ) ( C ) O C ( = O ) N C C ( = O ) N 1 ...</td>\n",
              "      <td>O = C ( O ) C ( F ) ( F ) F</td>\n",
              "      <td>&lt;RX_6&gt;</td>\n",
              "    </tr>\n",
              "    <tr>\n",
              "      <th>14204</th>\n",
              "      <td>C C ( C ) ( C ) O C ( = O ) N C C ( = O ) N 1 ...</td>\n",
              "      <td>N = C ( N ) N C C C [ C @ H ] ( N C ( = O ) [...</td>\n",
              "      <td>&lt;RX_6&gt;</td>\n",
              "    </tr>\n",
              "    <tr>\n",
              "      <th>38911</th>\n",
              "      <td>C C ( C ) ( C ) O C ( = O ) N C C ( = O ) N 1 ...</td>\n",
              "      <td>C c 1 c c c ( S ( = O ) ( = O ) O ) c c 1</td>\n",
              "      <td>&lt;RX_6&gt;</td>\n",
              "    </tr>\n",
              "  </tbody>\n",
              "</table>\n",
              "</div>"
            ],
            "text/plain": [
              "                                               reactants  ... reaction_type\n",
              "1305   C C ( C ) ( C ) O C ( = O ) N C C ( = O ) N 1 ...  ...        <RX_6>\n",
              "14204  C C ( C ) ( C ) O C ( = O ) N C C ( = O ) N 1 ...  ...        <RX_6>\n",
              "38911  C C ( C ) ( C ) O C ( = O ) N C C ( = O ) N 1 ...  ...        <RX_6>\n",
              "\n",
              "[3 rows x 3 columns]"
            ]
          },
          "execution_count": 15,
          "metadata": {
            "tags": []
          },
          "output_type": "execute_result"
        }
      ],
      "source": [
        "df[df[\"reactants\"] ==\n",
        "    df[\"reactants\"].value_counts()\n",
        "    .index[0]]"
      ]
    },
    {
      "cell_type": "code",
      "execution_count": null,
      "metadata": {
        "colab": {
          "base_uri": "https://localhost:8080/",
          "height": 53
        },
        "id": "v5S1nX41aF9A",
        "outputId": "731ff2fd-4a80-45e2-b8af-526478631075"
      },
      "outputs": [
        {
          "data": {
            "application/vnd.google.colaboratory.intrinsic+json": {
              "type": "string"
            },
            "text/plain": [
              "'CS(=O)(=O)OC[C@H]1CCC(=O)O1.Fc1ccc(Nc2ncnc3cc(OCCN4CCNCC4)c(OC4CCCC4)cc23)cc1Cl>>O=C1CC[C@H](CN2CCN(CCOc3cc4ncnc(Nc5ccc(F)c(Cl)c5)c4cc3OC3CCCC3)CC2)O1'"
            ]
          },
          "execution_count": 13,
          "metadata": {
            "tags": []
          },
          "output_type": "execute_result"
        }
      ],
      "source": [
        "df.loc[0, \"full_input_format\"]"
      ]
    },
    {
      "cell_type": "markdown",
      "metadata": {
        "id": "haePh3eNupVA"
      },
      "source": [
        "## Preprocessing Reaction Fingerprints"
      ]
    },
    {
      "cell_type": "code",
      "execution_count": null,
      "metadata": {
        "colab": {
          "base_uri": "https://localhost:8080/"
        },
        "id": "M-c5cd6ahxsS",
        "outputId": "762da4a9-5857-4a91-f61b-c7f1396feb5b"
      },
      "outputs": [
        {
          "name": "stdout",
          "output_type": "stream",
          "text": [
            "(0,)\n"
          ]
        },
        {
          "name": "stderr",
          "output_type": "stream",
          "text": [
            "/usr/local/lib/python3.6/dist-packages/ipykernel_launcher.py:2: UserWarning: Boolean Series key will be reindexed to match DataFrame index.\n",
            "  \n"
          ]
        },
        {
          "data": {
            "text/plain": [
              "0"
            ]
          },
          "execution_count": 36,
          "metadata": {
            "tags": []
          },
          "output_type": "execute_result"
        }
      ],
      "source": [
        "def delete_outliers(df, max_value):\n",
        "    to_del = df[df[\"full_input_format\"].str.len().sort_values(\n",
        "        ascending=False) > max_value].index\n",
        "    df1 = df.drop(to_del)\n",
        "    print(to_del.shape)\n",
        "    return df1\n",
        "\n",
        "\n",
        "df1 = delete_outliers(df, 400)\n",
        "(df1[\"full_input_format\"].str.len().sort_values(ascending=False) > 400).sum()"
      ]
    },
    {
      "cell_type": "code",
      "execution_count": null,
      "metadata": {
        "colab": {
          "base_uri": "https://localhost:8080/"
        },
        "id": "dypkvjMCzlD2",
        "outputId": "1be98c38-b005-4e34-80f6-9cd6804c89df"
      },
      "outputs": [
        {
          "data": {
            "text/plain": [
              "2048"
            ]
          },
          "execution_count": 37,
          "metadata": {
            "tags": []
          },
          "output_type": "execute_result"
        }
      ],
      "source": [
        "from rdkit.Chem import rdChemReactions\n",
        "from rdkit.Chem import DataStructs\n",
        "\n",
        "\n",
        "def create_fingerprints(df, params):\n",
        "    df[\"rxn\"] = df[\"full_input_format\"].apply(\n",
        "        lambda x: rdChemReactions.ReactionFromSmarts(x, useSmiles=True))\n",
        "    df[\"fingerprint\"] = df[\"rxn\"].apply(\n",
        "        lambda x: rdChemReactions.CreateDifferenceFingerprintForReaction(x, params))\n",
        "    fingerprints = []\n",
        "    fps = []\n",
        "    for i in df.index:\n",
        "        array = np.zeros((0, ), dtype=np.int64)\n",
        "        DataStructs.ConvertToNumpyArray(df.loc[i, \"fingerprint\"], array)\n",
        "        fingerprints.append(array)\n",
        "        fps.append(df.loc[i, \"fingerprint\"])\n",
        "\n",
        "    return np.stack(fingerprints), fps\n",
        "\n",
        "\n",
        "params = rdChemReactions.ReactionFingerprintParams()\n",
        "params.fpSize = 2048\n",
        "train_inputs, train_fps = create_fingerprints(df1, params)\n",
        "len(train_inputs[0])"
      ]
    },
    {
      "cell_type": "code",
      "execution_count": null,
      "metadata": {
        "id": "hEt_qRU8T_8_"
      },
      "outputs": [],
      "source": [
        "from sklearn.preprocessing import LabelEncoder\n",
        "le = LabelEncoder()\n",
        "\n",
        "\n",
        "def tokenize_reaction_type(df):\n",
        "    le.fit(df[\"reaction_type\"])\n",
        "    return le.transform(df[\"reaction_type\"])\n",
        "\n",
        "\n",
        "train_outputs = tokenize_reaction_type(df1)\n",
        "print(le.classes_)"
      ]
    },
    {
      "cell_type": "code",
      "execution_count": null,
      "metadata": {
        "colab": {
          "base_uri": "https://localhost:8080/"
        },
        "id": "METjgB9xY90e",
        "outputId": "63e18f8c-5325-4493-abcd-e7d14a4b1349"
      },
      "outputs": [
        {
          "data": {
            "text/plain": [
              "<RX_10>    0.005525\n",
              "<RX_1>     0.000083\n",
              "<RX_2>     0.000105\n",
              "<RX_3>     0.000222\n",
              "<RX_4>     0.001389\n",
              "<RX_5>     0.001923\n",
              "<RX_6>     0.000150\n",
              "<RX_7>     0.000273\n",
              "<RX_8>     0.001536\n",
              "<RX_9>     0.000682\n",
              "Name: reaction_type, dtype: float64"
            ]
          },
          "execution_count": 43,
          "metadata": {
            "tags": []
          },
          "output_type": "execute_result"
        }
      ],
      "source": [
        "weights = 1/df1[\"reaction_type\"].value_counts().sort_index()\n",
        "\n",
        "reactions = le.classes_\n",
        "class_weights = {}\n",
        "for el in reactions:\n",
        "    class_weights[le.transform([el])[0]] = weights[el]\n",
        "class_weights, weights"
      ]
    },
    {
      "cell_type": "markdown",
      "metadata": {
        "id": "LFSPhy3sUmmN"
      },
      "source": [
        "## Preparing validation and test data"
      ]
    },
    {
      "cell_type": "markdown",
      "metadata": {},
      "source": [
        "Now let's create the pipeline for validation and test data:"
      ]
    },
    {
      "cell_type": "code",
      "execution_count": null,
      "metadata": {},
      "outputs": [],
      "source": [
        "def data_to_Ids_pipeline(reactants_df, products_df, max_to_del=0):\n",
        "    dfa = process_dfs(reactants_df, products_df)\n",
        "    prepare_whole_reaction_padded(dfa)\n",
        "    dfa = delete_outliers(dfa, max_to_del)\n",
        "    inputs, fps = create_fingerprints(dfa, params)\n",
        "    outputs = tokenize_reaction_type(dfa)\n",
        "    return dfa, inputs, outputs\n",
        "\n",
        "\n",
        "valid_df, valid_inputs, valid_outputs = data_to_Ids_pipeline(\n",
        "    valid_reactants_df, valid_products_df, max_to_del=400)\n",
        "\n",
        "test_df, test_inputs, test_outputs = data_to_Ids_pipeline(\n",
        "    test_reactants_df, test_products_df, max_to_del=400)"
      ]
    },
    {
      "cell_type": "markdown",
      "metadata": {
        "id": "X6wUyP5HAjXK"
      },
      "source": [
        "Now let's tokenize the validation text and test text:"
      ]
    },
    {
      "cell_type": "code",
      "execution_count": null,
      "metadata": {
        "id": "SU-jmsWh-jCp"
      },
      "outputs": [],
      "source": [
        "valid_products_df = pd.read_csv(os.path.join(\n",
        "    validation_path, \"valid_sources.txt\"), header=None)\n",
        "valid_reactants_df = pd.read_csv(os.path.join(\n",
        "    validation_path, \"valid_targets.txt\"), header=None)\n",
        "\n",
        "test_products_df = pd.read_csv(os.path.join(\n",
        "    test_path, \"test_sources.txt\"), header=None)\n",
        "test_reactants_df = pd.read_csv(os.path.join(\n",
        "    test_path, \"test_targets.txt\"), header=None)"
      ]
    },
    {
      "cell_type": "code",
      "execution_count": null,
      "metadata": {
        "colab": {
          "base_uri": "https://localhost:8080/"
        },
        "id": "1GobnyTYAwHx",
        "outputId": "24f56f59-c7fc-4298-ea25-994e92c8cca2"
      },
      "outputs": [
        {
          "name": "stdout",
          "output_type": "stream",
          "text": [
            "Shape of validation Ids inputs: (5004, 2048)\n",
            "Shape of validation Ids output: (5004,)\n"
          ]
        }
      ],
      "source": [
        "print(\"Shape of validation Ids inputs:\", valid_inputs.shape)\n",
        "print(\"Shape of validation Ids output:\", valid_outputs.shape)\n",
        "print(\"Shape of Test Ids inputs:\",  test_inputs.shape)\n",
        "print(\"Shape of Test Ids output:\",  test_outputs.shape)"
      ]
    },
    {
      "cell_type": "code",
      "execution_count": null,
      "metadata": {
        "colab": {
          "base_uri": "https://localhost:8080/",
          "height": 52
        },
        "id": "qrpdR37Oyggv",
        "outputId": "ffaca889-ea33-4a5e-a330-38dd81e67ba4"
      },
      "outputs": [
        {
          "name": "stdout",
          "output_type": "stream",
          "text": [
            "(45033, 2048)\n",
            "(45033,)\n"
          ]
        }
      ],
      "source": [
        "train_inputs_ml = np.concatenate([train_inputs, valid_inputs])\n",
        "print(train_inputs_ml.shape)\n",
        "train_outputs_ml = np.concatenate([train_outputs, valid_outputs])\n",
        "print(train_outputs_ml.shape)"
      ]
    },
    {
      "cell_type": "code",
      "execution_count": null,
      "metadata": {
        "colab": {
          "base_uri": "https://localhost:8080/",
          "height": 193
        },
        "id": "3he0w-l40Iwm",
        "outputId": "7cd52030-5393-4cdb-bde2-3d6ea3c213dc"
      },
      "outputs": [
        {
          "data": {
            "text/plain": [
              "{0: 0.004901960784313725,\n",
              " 1: 7.347538574577516e-05,\n",
              " 2: 9.326618168252192e-05,\n",
              " 3: 0.00019704433497536947,\n",
              " 4: 0.0012345679012345679,\n",
              " 5: 0.0017094017094017094,\n",
              " 6: 0.00013301409949454643,\n",
              " 7: 0.0002423654871546292,\n",
              " 8: 0.001364256480218281,\n",
              " 9: 0.0006060606060606061}"
            ]
          },
          "execution_count": 35,
          "metadata": {
            "tags": []
          },
          "output_type": "execute_result"
        }
      ],
      "source": [
        "class_weights_ml = {}\n",
        "counts = np.unique(train_outputs_ml, return_counts=True)\n",
        "for key in counts[0]:\n",
        "    class_weights_ml[key] = 1/counts[1][key]\n",
        "\n",
        "class_weights_ml"
      ]
    },
    {
      "cell_type": "code",
      "execution_count": null,
      "metadata": {},
      "outputs": [],
      "source": [
        "import pickle\n",
        "with open(os.path.join(train_path, \"train_targets_ids_fingerprints.fps\"), \"wb\") as f:\n",
        "    pickle.dump(train_fps, f)\n",
        "with open(os.path.join(train_path, \"train_targets_ids_fingerprints.data\"), \"w\") as f:\n",
        "    np.savetxt(f, train_inputs, newline='\\n')\n",
        "with open(os.path.join(validation_path, \"validation_targets_ids_fingerprint.data\"), \"w\") as f:\n",
        "    np.savetxt(f, valid_inputs, newline='\\n')\n",
        "with open(os.path.join(test_path, \"test_targets_ids_fingerprints.data\"), \"w\") as f:\n",
        "    np.savetxt(f, test_inputs, newline='\\n')"
      ]
    },
    {
      "cell_type": "markdown",
      "metadata": {
        "id": "wnqAQY0lGLfE"
      },
      "source": [
        "## Training"
      ]
    },
    {
      "cell_type": "markdown",
      "metadata": {
        "id": "w4MkU72Zvk4n"
      },
      "source": [
        "### Training a Random Forest Classifier"
      ]
    },
    {
      "cell_type": "code",
      "execution_count": null,
      "metadata": {
        "colab": {
          "base_uri": "https://localhost:8080/",
          "height": 301
        },
        "id": "CrbfIT3c2Zy7",
        "outputId": "39b93b00-e2ac-48d2-9eb7-d9233138066c"
      },
      "outputs": [
        {
          "name": "stdout",
          "output_type": "stream",
          "text": [
            "              precision    recall  f1-score   support\n",
            "\n",
            "           0       1.00      0.83      0.90        23\n",
            "           1       0.97      0.96      0.96      1512\n",
            "           2       0.99      0.97      0.98      1191\n",
            "           3       0.99      0.91      0.95       564\n",
            "           4       0.98      0.89      0.93        90\n",
            "           5       0.98      0.98      0.98        65\n",
            "           6       0.96      0.98      0.97       835\n",
            "           7       0.93      0.97      0.95       459\n",
            "           8       1.00      0.98      0.99        81\n",
            "           9       0.72      0.96      0.82       184\n",
            "\n",
            "    accuracy                           0.96      5004\n",
            "   macro avg       0.95      0.94      0.94      5004\n",
            "weighted avg       0.96      0.96      0.96      5004\n",
            "\n"
          ]
        }
      ],
      "source": [
        "from sklearn.metrics import accuracy_score, confusion_matrix, classification_report\n",
        "from sklearn.ensemble import RandomForestClassifier\n",
        "import matplotlib.pyplot as plt\n",
        "\n",
        "rndforest_model = RandomForestClassifier(\n",
        "    class_weight=class_weights_ml, n_estimators=200, criterion='gini', max_depth=25, n_jobs=-1)\n",
        "rndforest_model.fit(train_inputs_ml, train_outputs_ml)\n",
        "\n",
        "y_train_pred = rndforest_model.predict(train_inputs_ml)\n",
        "train_score = accuracy_score(train_outputs_ml, y_train_pred)\n",
        "y_val_pred = rndforest_model.predict(test_inputs)\n",
        "val_score = accuracy_score(test_outputs, y_val_pred)\n",
        "\n",
        "print(classification_report(test_outputs, y_val_pred))\n",
        "train_score, val_score"
      ]
    },
    {
      "cell_type": "code",
      "execution_count": null,
      "metadata": {
        "id": "JvdPEuY2sO6N"
      },
      "outputs": [],
      "source": [
        "import pickle\n",
        "filename = os.path.join(model_path, 'rndforest_classifier.reg')\n",
        "pickle.dump(rndforest_model, open(filename, 'wb'))"
      ]
    },
    {
      "cell_type": "markdown",
      "metadata": {
        "id": "eg7liDpdaAsN"
      },
      "source": [
        "### Training a Neural Network"
      ]
    },
    {
      "cell_type": "code",
      "execution_count": null,
      "metadata": {
        "colab": {
          "base_uri": "https://localhost:8080/"
        },
        "id": "gJDQYOqrbgj4",
        "outputId": "4defa438-ff90-4ac4-fe4e-b46001003fef"
      },
      "outputs": [
        {
          "data": {
            "text/plain": [
              "device(type='cuda', index=0)"
            ]
          },
          "execution_count": 50,
          "metadata": {
            "tags": []
          },
          "output_type": "execute_result"
        }
      ],
      "source": [
        "import torch\n",
        "from torch.utils.data import TensorDataset, DataLoader\n",
        "from torch import nn\n",
        "\n",
        "device = torch.device(\"cuda:0\" if torch.cuda.is_available() else \"cpu\")\n",
        "if torch.cuda.is_available():\n",
        "    torch.cuda.manual_seed(SEED)\n",
        "    torch.backends.cudnn.deterministic = True\n",
        "    torch.backends.cudnn.benchmark = True"
      ]
    },
    {
      "cell_type": "code",
      "execution_count": null,
      "metadata": {
        "id": "6-2Oy1HNar0X"
      },
      "outputs": [],
      "source": [
        "BATCH_SIZE = 256\n",
        "\n",
        "# transform to torch tensor\n",
        "train_tensor_x = torch.Tensor(train_inputs).float().cuda()\n",
        "train_tensor_y = torch.Tensor(train_outputs).long().cuda()\n",
        "\n",
        "# create train dataset\n",
        "train_dataset = TensorDataset(train_tensor_x, train_tensor_y)\n",
        "# create train dataloader\n",
        "train_dataloader = DataLoader(\n",
        "    train_dataset, batch_size=BATCH_SIZE, shuffle=True)\n",
        "\n",
        "# transform to torch tensor\n",
        "valid_tensor_x = torch.Tensor(valid_inputs).float().cuda()\n",
        "valid_tensor_y = torch.Tensor(valid_outputs).long().cuda()\n",
        "\n",
        "# create valid dataset\n",
        "valid_dataset = TensorDataset(valid_tensor_x, valid_tensor_y)\n",
        "# create valid dataloader\n",
        "valid_dataloader = DataLoader(\n",
        "    valid_dataset, batch_size=BATCH_SIZE, shuffle=True)\n",
        "\n",
        "# transform to torch tensor\n",
        "test_tensor_x = torch.Tensor(test_inputs).float().cuda()\n",
        "test_tensor_y = torch.Tensor(test_outputs).long().cuda()\n",
        "\n",
        "# create test dataset\n",
        "test_dataset = TensorDataset(test_tensor_x, test_tensor_y)\n",
        "# create test dataloader\n",
        "test_dataloader = DataLoader(test_dataset)"
      ]
    },
    {
      "cell_type": "code",
      "execution_count": null,
      "metadata": {
        "colab": {
          "base_uri": "https://localhost:8080/",
          "height": 106
        },
        "id": "XvK3ybboPPB8",
        "outputId": "588d92da-0ca5-4e03-ac03-1a67a2008501"
      },
      "outputs": [],
      "source": [
        "model = nn.Sequential(nn.Linear(2048, 32),\n",
        "                      nn.ReLU(),\n",
        "                      nn.Dropout(0.25),\n",
        "                      nn.Linear(32, 10)).cuda()\n",
        "\n",
        "\n",
        "def count_parameters(model):\n",
        "    return sum(p.numel() for p in model.parameters() if p.requires_grad)\n",
        "\n",
        "\n",
        "count_parameters(model)"
      ]
    },
    {
      "cell_type": "code",
      "execution_count": null,
      "metadata": {
        "id": "w4xi-lrud70N"
      },
      "outputs": [],
      "source": [
        "import torch.optim as optim\n",
        "criterion = nn.CrossEntropyLoss(weight=torch.tensor(\n",
        "    list(class_weights.values())).float().cuda())\n",
        "optimizer = optim.Adam(model.parameters(), lr=1e-3)"
      ]
    },
    {
      "cell_type": "code",
      "execution_count": null,
      "metadata": {
        "id": "nLNx_fOKMqFe"
      },
      "outputs": [],
      "source": [
        "def multi_acc(y_pred, y_test):\n",
        "    y_pred_softmax = torch.log_softmax(y_pred, dim=1)\n",
        "    y_pred_tags = torch.argmax(y_pred_softmax, dim=1)\n",
        "\n",
        "    correct_pred = (y_pred_tags == y_test).float()\n",
        "\n",
        "    acc = correct_pred.sum()\n",
        "\n",
        "    return acc"
      ]
    },
    {
      "cell_type": "code",
      "execution_count": null,
      "metadata": {
        "colab": {
          "base_uri": "https://localhost:8080/",
          "height": 1000,
          "referenced_widgets": [
            "ff4bbb7e101443ec8021bfad323ab3b9",
            "0b5fee432b95446f9d6a7588d6025168",
            "e2bd79f8aefb4ca99b97f50dd3ceaaa5",
            "0be539b86eca4e9aa0b3d80ed82ac608",
            "a3a695d56d5d47a2a096f620ea9358aa",
            "c1bcb7a3b60649c39901607f5325f737",
            "e371d4c0842643aaa42c67d33dd81b40",
            "d8845c6aefb446e69ae473569f776910"
          ]
        },
        "id": "KN1_1QWRmndF",
        "outputId": "853a276d-3722-4d13-92b5-15b1eb8266a7"
      },
      "outputs": [],
      "source": [
        "import tqdm\n",
        "NUM_EPOCHS = 50\n",
        "\n",
        "train_loss = []\n",
        "val_loss = []\n",
        "train_accuracy = []\n",
        "val_accuracy = []\n",
        "\n",
        "# training\n",
        "for i in tqdm.notebook.tqdm(range(NUM_EPOCHS), desc='training'):\n",
        "    train_loss_sum = 0\n",
        "    train_correct = 0\n",
        "    for train_element in train_dataloader:\n",
        "        # zero the parameter gradients\n",
        "        optimizer.zero_grad()\n",
        "        outputs = model(train_element[0])\n",
        "        train_correct += multi_acc(outputs, train_element[1])\n",
        "        loss = criterion(outputs, train_element[1])\n",
        "        loss.backward()\n",
        "        train_loss_sum += loss.item()\n",
        "        torch.nn.utils.clip_grad_norm_(model.parameters(), 0.5)\n",
        "        optimizer.step()\n",
        "        optimizer.zero_grad()\n",
        "    train_loss_sum = train_loss_sum/train_inputs.shape[0]\n",
        "    train_correct = train_correct/train_inputs.shape[0]\n",
        "    train_loss.append(train_loss_sum)\n",
        "    train_accuracy.append(train_correct)\n",
        "    print(f'training loss at epoch {i}: {train_loss_sum:.5f}')\n",
        "    print(f'training accuracy at epoch {i}: {train_correct:.5f}')\n",
        "\n",
        "    with torch.no_grad():\n",
        "        model.eval()\n",
        "        val_loss_sum = 0\n",
        "        val_correct = 0\n",
        "        for val_element in valid_dataloader:\n",
        "            outputs = model(val_element[0])\n",
        "            val_correct += multi_acc(outputs, val_element[1])\n",
        "            loss = criterion(outputs, val_element[1])\n",
        "            val_loss_sum += loss.item()\n",
        "\n",
        "        val_loss_sum = val_loss_sum/valid_inputs.shape[0]\n",
        "        val_correct = val_correct/valid_inputs.shape[0]\n",
        "        val_loss.append(val_loss_sum)\n",
        "        val_accuracy.append(val_correct)\n",
        "        print(f'validation loss at epoch {i}: {val_loss_sum:.5f}')\n",
        "        print(f'validation accuracy at epoch {i}: {val_correct:.5f}')\n",
        "        print(\"--------------------------------------------------------- \\n\")\n",
        "\n",
        "    torch.save({\n",
        "        'model_state_dict': model.state_dict(),\n",
        "        'optimizer_state_dict': optimizer.state_dict(),\n",
        "    }, os.path.join(model_path, \"rxn_type_model\"+str(i)+\".pth\"))\n",
        "\n",
        "    with open(os.path.join(model_path, \"rxn_type_val_loss.pkl\"), 'wb') as f:\n",
        "        pickle.dump(val_loss, f)\n",
        "    with open(os.path.join(model_path, \"rxn_type_train_loss.pkl\"), 'wb') as f:\n",
        "        pickle.dump(train_loss, f)\n",
        "    with open(os.path.join(model_path, \"rxn_type_val_accuracy.pkl\"), 'wb') as f:\n",
        "        pickle.dump(val_accuracy, f)\n",
        "    with open(os.path.join(model_path, \"rxn_type_train_accuracy.pkl\"), 'wb') as f:\n",
        "        pickle.dump(train_accuracy, f)"
      ]
    },
    {
      "cell_type": "code",
      "execution_count": null,
      "metadata": {
        "colab": {
          "base_uri": "https://localhost:8080/",
          "height": 548
        },
        "id": "gw_a7uJJlcH1",
        "outputId": "cac1a30a-16a7-4447-8391-719a469d578a"
      },
      "outputs": [
        {
          "name": "stdout",
          "output_type": "stream",
          "text": [
            "train loss:\n"
          ]
        },
        {
          "data": {
            "image/png": "[encoded data removed]",
            "text/plain": [
              "<Figure size 432x288 with 1 Axes>"
            ]
          },
          "metadata": {
            "needs_background": "light",
            "tags": []
          },
          "output_type": "display_data"
        },
        {
          "name": "stdout",
          "output_type": "stream",
          "text": [
            "train accuracy:\n"
          ]
        },
        {
          "data": {
            "image/png": "[encoded data removed]",
            "text/plain": [
              "<Figure size 432x288 with 1 Axes>"
            ]
          },
          "metadata": {
            "needs_background": "light",
            "tags": []
          },
          "output_type": "display_data"
        }
      ],
      "source": [
        "import matplotlib.pyplot as plt\n",
        "\n",
        "print(\"train loss:\")\n",
        "plt.plot(train_loss, 'r')\n",
        "plt.plot(val_loss, 'b')\n",
        "plt.show()\n",
        "\n",
        "print(\"train accuracy:\")\n",
        "plt.plot(train_accuracy, 'r')\n",
        "plt.plot(val_accuracy, 'b')\n",
        "plt.show()"
      ]
    },
    {
      "cell_type": "code",
      "execution_count": null,
      "metadata": {
        "colab": {
          "base_uri": "https://localhost:8080/"
        },
        "id": "hEiwb_sOcLHC",
        "outputId": "9385e81f-08f3-43ec-90ae-ba8f139a26fa"
      },
      "outputs": [
        {
          "data": {
            "text/plain": [
              "4"
            ]
          },
          "execution_count": 80,
          "metadata": {
            "tags": []
          },
          "output_type": "execute_result"
        }
      ],
      "source": [
        "np.argmin(val_loss)"
      ]
    },
    {
      "cell_type": "code",
      "execution_count": null,
      "metadata": {
        "id": "3LHp0WLuvW0h"
      },
      "outputs": [],
      "source": [
        "tools[\"model\"].eval()\n",
        "test_pred = []\n",
        "for test_element in test_dataloader:\n",
        "    outputs = tools[\"model\"](test_element[0])\n",
        "    y_pred_softmax = torch.log_softmax(outputs, dim=1)\n",
        "    y_pred_tags = torch.argmax(y_pred_softmax, dim=1)\n",
        "    for x in y_pred_tags:\n",
        "        test_pred.append(x.item())\n",
        "\n",
        "# (test_pred)"
      ]
    },
    {
      "cell_type": "code",
      "execution_count": null,
      "metadata": {
        "colab": {
          "base_uri": "https://localhost:8080/"
        },
        "id": "aUXFTbQYza3S",
        "outputId": "49971600-e577-4f1d-f82a-f3034fb2c77a"
      },
      "outputs": [
        {
          "name": "stdout",
          "output_type": "stream",
          "text": [
            "              precision    recall  f1-score   support\n",
            "\n",
            "           0       0.91      0.91      0.91        23\n",
            "           1       0.98      0.97      0.98      1512\n",
            "           2       0.98      0.97      0.98      1191\n",
            "           3       0.97      0.97      0.97       564\n",
            "           4       0.94      0.97      0.95        90\n",
            "           5       0.97      0.97      0.97        65\n",
            "           6       0.97      0.99      0.98       835\n",
            "           7       0.96      0.98      0.97       459\n",
            "           8       0.96      1.00      0.98        81\n",
            "           9       0.97      0.94      0.95       184\n",
            "\n",
            "    accuracy                           0.97      5004\n",
            "   macro avg       0.96      0.97      0.96      5004\n",
            "weighted avg       0.97      0.97      0.97      5004\n",
            "\n"
          ]
        }
      ],
      "source": [
        "from sklearn.metrics import classification_report\n",
        "print(classification_report(test_outputs, test_pred))"
      ]
    },
    {
      "cell_type": "code",
      "execution_count": null,
      "metadata": {
        "id": "CxP01rrG4Nrb"
      },
      "outputs": [],
      "source": [
        "torch.save(model, os.path.join(model_path, \"final_nn_classifier.pth\"))"
      ]
    }
  ],
  "metadata": {
    "accelerator": "GPU",
    "colab": {
      "collapsed_sections": [
        "G1017-ZWQkV9"
      ],
      "provenance": []
    },
    "kernelspec": {
      "display_name": "chemgen_env",
      "language": "python",
      "name": "python3"
    },
    "language_info": {
      "codemirror_mode": {
        "name": "ipython",
        "version": 3
      },
      "file_extension": ".py",
      "mimetype": "text/x-python",
      "name": "python",
      "nbconvert_exporter": "python",
      "pygments_lexer": "ipython3",
      "version": "3.9.19"
    },
    "widgets": {
      "application/vnd.jupyter.widget-state+json": {
        "0b5fee432b95446f9d6a7588d6025168": {
          "model_module": "@jupyter-widgets/base",
          "model_module_version": "1.2.0",
          "model_name": "LayoutModel",
          "state": {
            "_model_module": "@jupyter-widgets/base",
            "_model_module_version": "1.2.0",
            "_model_name": "LayoutModel",
            "_view_count": null,
            "_view_module": "@jupyter-widgets/base",
            "_view_module_version": "1.2.0",
            "_view_name": "LayoutView",
            "align_content": null,
            "align_items": null,
            "align_self": null,
            "border": null,
            "bottom": null,
            "display": null,
            "flex": null,
            "flex_flow": null,
            "grid_area": null,
            "grid_auto_columns": null,
            "grid_auto_flow": null,
            "grid_auto_rows": null,
            "grid_column": null,
            "grid_gap": null,
            "grid_row": null,
            "grid_template_areas": null,
            "grid_template_columns": null,
            "grid_template_rows": null,
            "height": null,
            "justify_content": null,
            "justify_items": null,
            "left": null,
            "margin": null,
            "max_height": null,
            "max_width": null,
            "min_height": null,
            "min_width": null,
            "object_fit": null,
            "object_position": null,
            "order": null,
            "overflow": null,
            "overflow_x": null,
            "overflow_y": null,
            "padding": null,
            "right": null,
            "top": null,
            "visibility": null,
            "width": null
          }
        },
        "0be539b86eca4e9aa0b3d80ed82ac608": {
          "model_module": "@jupyter-widgets/controls",
          "model_module_version": "1.5.0",
          "model_name": "HTMLModel",
          "state": {
            "_dom_classes": [],
            "_model_module": "@jupyter-widgets/controls",
            "_model_module_version": "1.5.0",
            "_model_name": "HTMLModel",
            "_view_count": null,
            "_view_module": "@jupyter-widgets/controls",
            "_view_module_version": "1.5.0",
            "_view_name": "HTMLView",
            "description": "",
            "description_tooltip": null,
            "layout": "IPY_MODEL_d8845c6aefb446e69ae473569f776910",
            "placeholder": "​",
            "style": "IPY_MODEL_e371d4c0842643aaa42c67d33dd81b40",
            "value": " 50/50 [00:39&lt;00:00,  1.26it/s]"
          }
        },
        "a3a695d56d5d47a2a096f620ea9358aa": {
          "model_module": "@jupyter-widgets/controls",
          "model_module_version": "1.5.0",
          "model_name": "ProgressStyleModel",
          "state": {
            "_model_module": "@jupyter-widgets/controls",
            "_model_module_version": "1.5.0",
            "_model_name": "ProgressStyleModel",
            "_view_count": null,
            "_view_module": "@jupyter-widgets/base",
            "_view_module_version": "1.2.0",
            "_view_name": "StyleView",
            "bar_color": null,
            "description_width": "initial"
          }
        },
        "c1bcb7a3b60649c39901607f5325f737": {
          "model_module": "@jupyter-widgets/base",
          "model_module_version": "1.2.0",
          "model_name": "LayoutModel",
          "state": {
            "_model_module": "@jupyter-widgets/base",
            "_model_module_version": "1.2.0",
            "_model_name": "LayoutModel",
            "_view_count": null,
            "_view_module": "@jupyter-widgets/base",
            "_view_module_version": "1.2.0",
            "_view_name": "LayoutView",
            "align_content": null,
            "align_items": null,
            "align_self": null,
            "border": null,
            "bottom": null,
            "display": null,
            "flex": null,
            "flex_flow": null,
            "grid_area": null,
            "grid_auto_columns": null,
            "grid_auto_flow": null,
            "grid_auto_rows": null,
            "grid_column": null,
            "grid_gap": null,
            "grid_row": null,
            "grid_template_areas": null,
            "grid_template_columns": null,
            "grid_template_rows": null,
            "height": null,
            "justify_content": null,
            "justify_items": null,
            "left": null,
            "margin": null,
            "max_height": null,
            "max_width": null,
            "min_height": null,
            "min_width": null,
            "object_fit": null,
            "object_position": null,
            "order": null,
            "overflow": null,
            "overflow_x": null,
            "overflow_y": null,
            "padding": null,
            "right": null,
            "top": null,
            "visibility": null,
            "width": null
          }
        },
        "d8845c6aefb446e69ae473569f776910": {
          "model_module": "@jupyter-widgets/base",
          "model_module_version": "1.2.0",
          "model_name": "LayoutModel",
          "state": {
            "_model_module": "@jupyter-widgets/base",
            "_model_module_version": "1.2.0",
            "_model_name": "LayoutModel",
            "_view_count": null,
            "_view_module": "@jupyter-widgets/base",
            "_view_module_version": "1.2.0",
            "_view_name": "LayoutView",
            "align_content": null,
            "align_items": null,
            "align_self": null,
            "border": null,
            "bottom": null,
            "display": null,
            "flex": null,
            "flex_flow": null,
            "grid_area": null,
            "grid_auto_columns": null,
            "grid_auto_flow": null,
            "grid_auto_rows": null,
            "grid_column": null,
            "grid_gap": null,
            "grid_row": null,
            "grid_template_areas": null,
            "grid_template_columns": null,
            "grid_template_rows": null,
            "height": null,
            "justify_content": null,
            "justify_items": null,
            "left": null,
            "margin": null,
            "max_height": null,
            "max_width": null,
            "min_height": null,
            "min_width": null,
            "object_fit": null,
            "object_position": null,
            "order": null,
            "overflow": null,
            "overflow_x": null,
            "overflow_y": null,
            "padding": null,
            "right": null,
            "top": null,
            "visibility": null,
            "width": null
          }
        },
        "e2bd79f8aefb4ca99b97f50dd3ceaaa5": {
          "model_module": "@jupyter-widgets/controls",
          "model_module_version": "1.5.0",
          "model_name": "FloatProgressModel",
          "state": {
            "_dom_classes": [],
            "_model_module": "@jupyter-widgets/controls",
            "_model_module_version": "1.5.0",
            "_model_name": "FloatProgressModel",
            "_view_count": null,
            "_view_module": "@jupyter-widgets/controls",
            "_view_module_version": "1.5.0",
            "_view_name": "ProgressView",
            "bar_style": "success",
            "description": "training: 100%",
            "description_tooltip": null,
            "layout": "IPY_MODEL_c1bcb7a3b60649c39901607f5325f737",
            "max": 50,
            "min": 0,
            "orientation": "horizontal",
            "style": "IPY_MODEL_a3a695d56d5d47a2a096f620ea9358aa",
            "value": 50
          }
        },
        "e371d4c0842643aaa42c67d33dd81b40": {
          "model_module": "@jupyter-widgets/controls",
          "model_module_version": "1.5.0",
          "model_name": "DescriptionStyleModel",
          "state": {
            "_model_module": "@jupyter-widgets/controls",
            "_model_module_version": "1.5.0",
            "_model_name": "DescriptionStyleModel",
            "_view_count": null,
            "_view_module": "@jupyter-widgets/base",
            "_view_module_version": "1.2.0",
            "_view_name": "StyleView",
            "description_width": ""
          }
        },
        "ff4bbb7e101443ec8021bfad323ab3b9": {
          "model_module": "@jupyter-widgets/controls",
          "model_module_version": "1.5.0",
          "model_name": "HBoxModel",
          "state": {
            "_dom_classes": [],
            "_model_module": "@jupyter-widgets/controls",
            "_model_module_version": "1.5.0",
            "_model_name": "HBoxModel",
            "_view_count": null,
            "_view_module": "@jupyter-widgets/controls",
            "_view_module_version": "1.5.0",
            "_view_name": "HBoxView",
            "box_style": "",
            "children": [
              "IPY_MODEL_e2bd79f8aefb4ca99b97f50dd3ceaaa5",
              "IPY_MODEL_0be539b86eca4e9aa0b3d80ed82ac608"
            ],
            "layout": "IPY_MODEL_0b5fee432b95446f9d6a7588d6025168"
          }
        }
      }
    }
  },
  "nbformat": 4,
  "nbformat_minor": 0
}
