{
 "cells": [
  {
   "cell_type": "markdown",
   "metadata": {},
   "source": [
    "# Data Preprocessing"
   ]
  },
  {
   "cell_type": "code",
   "execution_count": 1,
   "metadata": {},
   "outputs": [],
   "source": [
    "import matplotlib.pyplot as plt\n",
    "%matplotlib inline\n",
    "import os\n",
    "import numpy as np\n",
    "import sentencepiece as spm\n",
    "import scienceplots\n",
    "import pandas as pd\n",
    "from rdkit import Chem\n",
    "plt.rcParams.update( {'text.usetex' : True,\n",
    "                    'font.size' : 14})\n",
    "plt.style.use(['science','no-latex'])"
   ]
  },
  {
   "cell_type": "code",
   "execution_count": 2,
   "metadata": {},
   "outputs": [],
   "source": [
    "data_path = os.path.join(\"Liu_Kheyer_Retrosynthesis_Data\")\n",
    "train_path = os.path.join(data_path, \"train\")\n",
    "validation_path = os.path.join(data_path, \"validation\")\n",
    "test_path = os.path.join(data_path, \"test\")\n",
    "train_reactants_df = pd.read_csv(os.path.join(\n",
    "    train_path, \"train_targets.txt\"), header=None)\n",
    "train_products_df = pd.read_csv(os.path.join(\n",
    "    train_path, \"train_sources.txt\"), header=None)"
   ]
  },
  {
   "cell_type": "code",
   "execution_count": 3,
   "metadata": {},
   "outputs": [],
   "source": [
    "def process_dfs(react_df, prod_df):\n",
    "    react_df_n = react_df.copy()\n",
    "    prod_df_n = prod_df.copy()\n",
    "    prod_df_n.rename(columns={0: \"products\"}, inplace=True)\n",
    "    react_df_n.rename(columns={0: \"reactants\"}, inplace=True)\n",
    "    prod_df_n[\"reaction_type\"] = prod_df_n[\"products\"].str.extract(\n",
    "        r\"(\\<RX_.*\\>)\")\n",
    "    prod_df_n[\"products\"] = prod_df_n[\"products\"].str.replace(\n",
    "        r\"(\\<RX_.*\\>)\", \"\", regex=True)\n",
    "    df = pd.concat([react_df_n, prod_df_n], axis=1)\n",
    "    return df\n",
    "\n",
    "\n",
    "def prepare_whole_reaction_padded(df):\n",
    "    df[\"full_input_format_delimited\"] = \"[BOS]\" + \\\n",
    "        df[\"reactants\"]+\">>\"+df[\"products\"]+\"[EOS]\"\n",
    "    df[\"full_input_format_delimited\"] = df[\"full_input_format_delimited\"].str.replace(\n",
    "        \" \", \"\")\n",
    "    df[\"full_input_format\"] = df[\"reactants\"].str.replace(\n",
    "        \" \", \"\")+\">>\"+df[\"products\"].str.replace(\" \", \"\")\n",
    "\n",
    "\n",
    "df = process_dfs(train_reactants_df, train_products_df)\n",
    "prepare_whole_reaction_padded(df)\n",
    "\n",
    "params = Chem.rdChemReactions.ReactionFingerprintParams()\n",
    "params.fpSize = 2048\n",
    "df[\"rxn\"] = df.apply(lambda x: Chem.rdChemReactions.ReactionFromSmarts(\n",
    "    x[\"full_input_format\"], useSmiles=True), axis=1)\n",
    "df[\"fingerprint\"] = df.apply(\n",
    "    lambda x: Chem.rdChemReactions.CreateDifferenceFingerprintForReaction(x[\"rxn\"], params), axis=1)"
   ]
  },
  {
   "cell_type": "code",
   "execution_count": 4,
   "metadata": {},
   "outputs": [
    {
     "name": "stdout",
     "output_type": "stream",
     "text": [
      "56\n"
     ]
    },
    {
     "name": "stderr",
     "output_type": "stream",
     "text": [
      "sentencepiece_trainer.cc(178) LOG(INFO) Running command: --input=Liu_Kheyer_Retrosynthesis_Data/vocab2.txt --model_prefix=m  --user_defined_symbols=[BOS],[EOS],[PAD],. --vocab_size=56 --bos_id=-1 --eos_id=-1\n",
      "sentencepiece_trainer.cc(78) LOG(INFO) Starts training with : \n",
      "trainer_spec {\n",
      "  input: Liu_Kheyer_Retrosynthesis_Data/vocab2.txt\n",
      "  input_format: \n",
      "  model_prefix: m\n",
      "  model_type: UNIGRAM\n",
      "  vocab_size: 56\n",
      "  self_test_sample_size: 0\n",
      "  character_coverage: 0.9995\n",
      "  input_sentence_size: 0\n",
      "  shuffle_input_sentence: 1\n",
      "  seed_sentencepiece_size: 1000000\n",
      "  shrinking_factor: 0.75\n",
      "  max_sentence_length: 4192\n",
      "  num_threads: 16\n",
      "  num_sub_iterations: 2\n",
      "  max_sentencepiece_length: 16\n",
      "  split_by_unicode_script: 1\n",
      "  split_by_number: 1\n",
      "  split_by_whitespace: 1\n",
      "  split_digits: 0\n",
      "  pretokenization_delimiter: \n",
      "  treat_whitespace_as_suffix: 0\n",
      "  allow_whitespace_only_pieces: 0\n",
      "  user_defined_symbols: [BOS]\n",
      "  user_defined_symbols: [EOS]\n",
      "  user_defined_symbols: [PAD]\n",
      "  user_defined_symbols: .\n",
      "  required_chars: \n",
      "  byte_fallback: 0\n",
      "  vocabulary_output_piece_score: 1\n",
      "  train_extremely_large_corpus: 0\n",
      "  seed_sentencepieces_file: \n",
      "  hard_vocab_limit: 1\n",
      "  use_all_vocab: 0\n",
      "  unk_id: 0\n",
      "  bos_id: -1\n",
      "  eos_id: -1\n",
      "  pad_id: -1\n",
      "  unk_piece: <unk>\n",
      "  bos_piece: <s>\n",
      "  eos_piece: </s>\n",
      "  pad_piece: <pad>\n",
      "  unk_surface:  ⁇ \n",
      "  enable_differential_privacy: 0\n",
      "  differential_privacy_noise_level: 0\n",
      "  differential_privacy_clipping_threshold: 0\n",
      "}\n",
      "normalizer_spec {\n",
      "  name: nmt_nfkc\n",
      "  add_dummy_prefix: 1\n",
      "  remove_extra_whitespaces: 1\n",
      "  escape_whitespaces: 1\n",
      "  normalization_rule_tsv: \n",
      "}\n",
      "denormalizer_spec {}\n",
      "trainer_interface.cc(353) LOG(INFO) SentenceIterator is not specified. Using MultiFileSentenceIterator.\n",
      "trainer_interface.cc(185) LOG(INFO) Loading corpus: Liu_Kheyer_Retrosynthesis_Data/vocab2.txt\n",
      "trainer_interface.cc(409) LOG(INFO) Loaded all 53 sentences\n",
      "trainer_interface.cc(425) LOG(INFO) Adding meta_piece: <unk>\n",
      "trainer_interface.cc(425) LOG(INFO) Adding meta_piece: [BOS]\n",
      "trainer_interface.cc(425) LOG(INFO) Adding meta_piece: [EOS]\n",
      "trainer_interface.cc(425) LOG(INFO) Adding meta_piece: [PAD]\n",
      "trainer_interface.cc(425) LOG(INFO) Adding meta_piece: .\n",
      "trainer_interface.cc(430) LOG(INFO) Normalizing sentences...\n",
      "trainer_interface.cc(539) LOG(INFO) all chars count=106\n",
      "trainer_interface.cc(560) LOG(INFO) Alphabet size=51\n",
      "trainer_interface.cc(561) LOG(INFO) Final character coverage=1\n",
      "trainer_interface.cc(592) LOG(INFO) Done! preprocessed 53 sentences.\n",
      "unigram_model_trainer.cc(265) LOG(INFO) Making suffix array...\n",
      "unigram_model_trainer.cc(269) LOG(INFO) Extracting frequent sub strings... node_num=10\n",
      "unigram_model_trainer.cc(312) LOG(INFO) Initialized 51 seed sentencepieces\n",
      "trainer_interface.cc(598) LOG(INFO) Tokenizing input sentences with whitespace: 53\n",
      "trainer_interface.cc(609) LOG(INFO) Done! 51\n",
      "unigram_model_trainer.cc(602) LOG(INFO) Using 51 sentences for EM training\n",
      "unigram_model_trainer.cc(618) LOG(INFO) EM sub_iter=0 size=51 obj=5.8652 num_tokens=102 num_tokens/piece=2\n",
      "unigram_model_trainer.cc(618) LOG(INFO) EM sub_iter=1 size=51 obj=6.44429 num_tokens=102 num_tokens/piece=2\n",
      "trainer_interface.cc(687) LOG(INFO) Saving model: m.model\n",
      "trainer_interface.cc(699) LOG(INFO) Saving vocabs: m.vocab\n"
     ]
    }
   ],
   "source": [
    "spt_1 = spm.SentencePieceTrainer.train(\n",
    "    \"--input=Liu_Kheyer_Retrosynthesis_Data/vocab2.txt --model_prefix=m  --user_defined_symbols=[BOS],[EOS],[PAD],. --vocab_size=56 --bos_id=-1 --eos_id=-1\")\n",
    "sp = spm.SentencePieceProcessor()\n",
    "sp.load('m.model')\n",
    "print(sp.get_piece_size())"
   ]
  },
  {
   "cell_type": "markdown",
   "metadata": {},
   "source": [
    "Now we can tokenize the training data:"
   ]
  },
  {
   "cell_type": "code",
   "execution_count": 5,
   "metadata": {},
   "outputs": [
    {
     "name": "stdout",
     "output_type": "stream",
     "text": [
      "removed  474  samples\n"
     ]
    },
    {
     "data": {
      "text/plain": [
       "(0        200\n",
       " 26676    200\n",
       " 26677    200\n",
       " 26678    200\n",
       " 26679    200\n",
       "         ... \n",
       " 13352    200\n",
       " 13353    200\n",
       " 13354    200\n",
       " 13347    200\n",
       " 40028    200\n",
       " Name: input_ids, Length: 39555, dtype: int64,\n",
       " 39555)"
      ]
     },
     "execution_count": 5,
     "metadata": {},
     "output_type": "execute_result"
    }
   ],
   "source": [
    "PAD_TOKEN = sp.encode_as_ids(\"[PAD]\")[1]\n",
    "\n",
    "\n",
    "def tokenize_and_pad(df, max_len=0):\n",
    "    # choose to set the max_len based on a user entered value or the one derived from the data\n",
    "    if max_len == 0:\n",
    "        max_val = df[\"input_ids\"].str.len().sort_values(\n",
    "            ascending=False).head(1).values[0]\n",
    "        print(max_val)\n",
    "        return\n",
    "    else:\n",
    "        max_val = max_len\n",
    "    # Create the encoded columns\n",
    "    df[\"input_ids\"] = df[\"full_input_format_delimited\"].apply(\n",
    "        sp.encode_as_ids).apply(lambda x: x[1:])\n",
    "    df_new = df[df[\"input_ids\"].apply(len) <= max_val].copy()\n",
    "    print(\"removed \", df.shape[0]-df_new.shape[0], \" samples\")\n",
    "\n",
    "    # calculate how much to pad for each case\n",
    "    df_new[\"input_counts\"] = max_val-df_new[\"input_ids\"].str.len()\n",
    "\n",
    "    # pad with the PAD_TOKEN\n",
    "    df_new[\"input_ids\"] = df_new.apply(lambda row: np.pad(\n",
    "        row[\"input_ids\"], (0, row[\"input_counts\"]), mode='constant', constant_values=(0, PAD_TOKEN)), axis=1)\n",
    "\n",
    "    return np.asarray(df_new[\"input_ids\"].values.tolist()), max_val, df_new\n",
    "\n",
    "\n",
    "train_inputs, train_input_len, df_with_max_200 = tokenize_and_pad(df, 200)\n",
    "fingerprints = []\n",
    "for i in df_with_max_200.index:\n",
    "    array = np.zeros((0, ), dtype=np.float64)\n",
    "    Chem.DataStructs.ConvertToNumpyArray(\n",
    "        df_with_max_200.loc[i, \"fingerprint\"], array)\n",
    "    fingerprints.append(array)\n",
    "\n",
    "df_with_max_200[\"input_ids\"].str.len().sort_values(), len(fingerprints)"
   ]
  },
  {
   "cell_type": "markdown",
   "metadata": {},
   "source": [
    "Now let's create the pipeline for validation and test data:"
   ]
  },
  {
   "cell_type": "code",
   "execution_count": 6,
   "metadata": {},
   "outputs": [
    {
     "name": "stdout",
     "output_type": "stream",
     "text": [
      "removed  69  samples\n",
      "removed  48  samples\n",
      "Shape of validation Ids inputs: (4935, 200)\n",
      "Shape of Test Ids inputs: (4956, 200)\n"
     ]
    }
   ],
   "source": [
    "def data_to_Ids_pipeline(reactants_df, products_df, max_len=0):\n",
    "    dfa = process_dfs(reactants_df, products_df)\n",
    "    prepare_whole_reaction_padded(dfa)\n",
    "    inputs, input_len, dfa_new = tokenize_and_pad(dfa, max_len)\n",
    "    return dfa_new, inputs, input_len\n",
    "\n",
    "\n",
    "valid_products_df = pd.read_csv(os.path.join(\n",
    "    validation_path, \"valid_sources.txt\"), header=None)\n",
    "valid_reactants_df = pd.read_csv(os.path.join(\n",
    "    validation_path, \"valid_targets.txt\"), header=None)\n",
    "\n",
    "test_products_df = pd.read_csv(os.path.join(\n",
    "    test_path, \"test_sources.txt\"), header=None)\n",
    "test_reactants_df = pd.read_csv(os.path.join(\n",
    "    test_path, \"test_targets.txt\"), header=None)\n",
    "valid_df, valid_inputs, valid_input_len = data_to_Ids_pipeline(\n",
    "    valid_reactants_df, valid_products_df, max_len=200)\n",
    "\n",
    "test_df, test_inputs, test_input_len = data_to_Ids_pipeline(\n",
    "    test_reactants_df, test_products_df, max_len=200)\n",
    "print(\"Shape of validation Ids inputs:\", valid_inputs.shape)\n",
    "print(\"Shape of Test Ids inputs:\",  test_inputs.shape)"
   ]
  },
  {
   "cell_type": "code",
   "execution_count": null,
   "metadata": {},
   "outputs": [],
   "source": []
  }
 ],
 "metadata": {
  "kernelspec": {
   "display_name": "chemgen_env",
   "language": "python",
   "name": "python3"
  },
  "language_info": {
   "codemirror_mode": {
    "name": "ipython",
    "version": 3
   },
   "file_extension": ".py",
   "mimetype": "text/x-python",
   "name": "python",
   "nbconvert_exporter": "python",
   "pygments_lexer": "ipython3",
   "version": "3.9.19"
  }
 },
 "nbformat": 4,
 "nbformat_minor": 2
}
