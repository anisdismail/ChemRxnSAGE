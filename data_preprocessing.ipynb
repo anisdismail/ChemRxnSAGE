{
  "cells": [
    {
      "cell_type": "markdown",
      "metadata": {
        "id": "81dipIuIqs55"
      },
      "source": [
        "# Data Preprocessing"
      ]
    },
    {
      "cell_type": "code",
      "execution_count": null,
      "metadata": {
        "colab": {
          "base_uri": "https://localhost:8080/"
        },
        "id": "RcnWS4TP7MHZ",
        "outputId": "7655f572-aa5f-4cf3-8841-8ce08732a653"
      },
      "outputs": [],
      "source": [
        "import matplotlib.pyplot as plt\n",
        "%matplotlib inline\n",
        "import os\n",
        "import numpy as np\n",
        "import networkx as nx\n",
        "import sentencepiece as spm"
      ]
    },
    {
      "cell_type": "code",
      "execution_count": null,
      "metadata": {
        "colab": {
          "base_uri": "https://localhost:8080/"
        },
        "id": "qCWgRzuZD_wL",
        "outputId": "96fea77f-0129-41cc-9495-036074c6ee61"
      },
      "outputs": [
        {
          "name": "stdout",
          "output_type": "stream",
          "text": [
            " readme.txt   train\t  train_40x   validation        vocab2.txt   vocab.gdoc\n",
            " test\t      train_16x   train_4x   'vocab (1).gdoc'   vocab3.txt   vocab.txt\n"
          ]
        }
      ],
      "source": [
        "data_path = os.path.join(\"Liu_Kheyer_Retrosynthesis_Data\")\n",
        "train_path = os.path.join(data_path, \"train\")\n",
        "validation_path = os.path.join(data_path, \"validation\")\n",
        "test_path = os.path.join(data_path, \"test\")"
      ]
    },
    {
      "cell_type": "code",
      "execution_count": null,
      "metadata": {
        "id": "RwB4LNRoikVW"
      },
      "outputs": [],
      "source": [
        "import pandas as pd\n",
        "train_reactants_df = pd.read_csv(os.path.join(\n",
        "    train_path, \"train_targets.txt\"), header=None)\n",
        "train_products_df = pd.read_csv(os.path.join(\n",
        "    train_path, \"train_sources.txt\"), header=None)"
      ]
    },
    {
      "cell_type": "code",
      "execution_count": null,
      "metadata": {
        "id": "1BBefORggJwE"
      },
      "outputs": [],
      "source": [
        "def process_dfs(react_df, prod_df):\n",
        "    react_df_n = react_df.copy()\n",
        "    prod_df_n = prod_df.copy()\n",
        "    prod_df_n.rename(columns={0: \"products\"}, inplace=True)\n",
        "    react_df_n.rename(columns={0: \"reactants\"}, inplace=True)\n",
        "    prod_df_n[\"reaction_type\"] = prod_df_n[\"products\"].str.extract(\n",
        "        r\"(\\<RX_.*\\>)\")\n",
        "    prod_df_n[\"products\"] = prod_df_n[\"products\"].str.replace(\n",
        "        r\"(\\<RX_.*\\>)\", \"\", regex=True)\n",
        "    df = pd.concat([react_df_n, prod_df_n], axis=1)\n",
        "    return df\n",
        "\n",
        "\n",
        "df = process_dfs(train_reactants_df, train_products_df)\n",
        "rxns = df[\"reaction_type\"].value_counts(ascending=False)/df.shape[0]\n",
        "rxns.plot.bar()\n",
        "rxns"
      ]
    },
    {
      "cell_type": "code",
      "execution_count": null,
      "metadata": {
        "colab": {
          "base_uri": "https://localhost:8080/",
          "height": 167
        },
        "id": "JIcEyVnBn1Ln",
        "outputId": "ae31af38-6ca8-4bbc-8461-0a1059fe5fb3"
      },
      "outputs": [
        {
          "data": {
            "image/png": "[encoded data removed]",
            "text/plain": [
              "<rdkit.Chem.rdChemReactions.ChemicalReaction at 0x7efef9057670>"
            ]
          },
          "execution_count": 27,
          "metadata": {},
          "output_type": "execute_result"
        }
      ],
      "source": [
        "from rdkit.Chem import rdChemReactions\n",
        "from rdkit import Chem\n",
        "from rdkit.Chem.Draw import IPythonConsole\n",
        "rxn_10 = df[df.reaction_type == \"<RX_10>\"].full_input_format.tolist()\n",
        "mol1 = rdChemReactions.ReactionFromSmarts(rxn_10[60])\n",
        "print(rxn_10[60])\n",
        "mol1"
      ]
    },
    {
      "cell_type": "code",
      "execution_count": null,
      "metadata": {
        "id": "DefIyASDXee2"
      },
      "outputs": [],
      "source": [
        "def prepare_whole_reaction_padded(df):\n",
        "    df[\"full_input_format_delimited\"] = \"[BOS]\" + \\\n",
        "        df[\"reactants\"]+\">>\"+df[\"products\"]+\"[EOS]\"\n",
        "    df[\"full_input_format_delimited\"] = df[\"full_input_format_delimited\"].str.replace(\n",
        "        \" \", \"\")\n",
        "    df[\"full_input_format\"] = df[\"reactants\"].str.replace(\n",
        "        \" \", \"\")+\">>\"+df[\"products\"].str.replace(\" \", \"\")\n",
        "\n",
        "\n",
        "prepare_whole_reaction_padded(df)\n",
        "plt.hist(df[\"full_input_format_delimited\"].str.len())\n",
        "plt.show()\n",
        "df.loc[0, \"full_input_format_delimited\"]"
      ]
    },
    {
      "cell_type": "code",
      "execution_count": null,
      "metadata": {
        "colab": {
          "base_uri": "https://localhost:8080/"
        },
        "id": "tf96knysz6ro",
        "outputId": "0387693a-66f2-4976-efd8-272079df5762"
      },
      "outputs": [
        {
          "data": {
            "text/plain": [
              "640"
            ]
          },
          "execution_count": 11,
          "metadata": {},
          "output_type": "execute_result"
        }
      ],
      "source": [
        "(df[\"full_input_format_delimited\"].str.len() > 200).sum()"
      ]
    },
    {
      "cell_type": "markdown",
      "metadata": {
        "id": "SOI1OjmE7oxI"
      },
      "source": [
        "We need first to create the vocabulary for the training and target data:"
      ]
    },
    {
      "cell_type": "code",
      "execution_count": null,
      "metadata": {
        "id": "ma4RuRvIEVQ6"
      },
      "outputs": [],
      "source": [
        "spt_1 = spm.SentencePieceTrainer.train(\n",
        "    \"--input=Liu_Kheyer_Retrosynthesis_Data/vocab2.txt --model_prefix=m  --user_defined_symbols=[BOS],[EOS],[PAD],. --vocab_size=56 --bos_id=-1 --eos_id=-1\")\n",
        "sp = spm.SentencePieceProcessor()\n",
        "sp.load('m.model')\n",
        "print(sp.get_piece_size())\n",
        "vocabs = [sp.id_to_piece(id) for id in range(sp.get_piece_size())]\n",
        "print(vocabs)"
      ]
    },
    {
      "cell_type": "markdown",
      "metadata": {
        "id": "gChRC7uYejLH"
      },
      "source": [
        "Let's check the vocabulary created by the trainer by encoding the first example:"
      ]
    },
    {
      "cell_type": "code",
      "execution_count": null,
      "metadata": {
        "colab": {
          "base_uri": "https://localhost:8080/"
        },
        "id": "Cn7dZ3NQCbeR",
        "outputId": "46da8ce4-a29a-45d7-d319-bba2e1bb6669"
      },
      "outputs": [
        {
          "name": "stdout",
          "output_type": "stream",
          "text": [
            "160\n",
            "['▁', '[BOS]', 'C', 'S', '(', '=', 'O', ')', '(', '=', 'O', ')', 'O', 'C', '[', 'C', '@', 'H', ']', '1', 'C', 'C', 'C', '(', '=', 'O', ')', 'O', '1', '.', 'F', 'c', '1', 'c', 'c', 'c', '(', 'N', 'c', '2', 'n', 'c', 'n', 'c', '3', 'c', 'c', '(', 'O', 'C', 'C', 'N', '4', 'C', 'C', 'N', 'C', 'C', '4', ')', 'c', '(', 'O', 'C', '4', 'C', 'C', 'C', 'C', '4', ')', 'c', 'c', '2', '3', ')', 'c', 'c', '1', 'C', 'l', '>', '>', 'O', '=', 'C', '1', 'C', 'C', '[', 'C', '@', 'H', ']', '(', 'C', 'N', '2', 'C', 'C', 'N', '(', 'C', 'C', 'O', 'c', '3', 'c', 'c', '4', 'n', 'c', 'n', 'c', '(', 'N', 'c', '5', 'c', 'c', 'c', '(', 'F', ')', 'c', '(', 'C', 'l', ')', 'c', '5', ')', 'c', '4', 'c', 'c', '3', 'O', 'C', '3', 'C', 'C', 'C', 'C', '3', ')', 'C', 'C', '2', ')', 'O', '1', '[EOS]']\n",
            "[5, 1, 25, 36, 7, 21, 33, 8, 7, 21, 33, 8, 33, 25, 38, 25, 23, 27, 40, 12, 25, 25, 25, 7, 21, 33, 8, 33, 12, 4, 26, 43, 12, 43, 43, 43, 7, 32, 43, 13, 49, 43, 49, 43, 14, 43, 43, 7, 33, 25, 25, 32, 15, 25, 25, 32, 25, 25, 15, 8, 43, 7, 33, 25, 15, 25, 25, 25, 25, 15, 8, 43, 43, 13, 14, 8, 43, 43, 12, 25, 48, 22, 22, 33, 21, 25, 12, 25, 25, 38, 25, 23, 27, 40, 7, 25, 32, 13, 25, 25, 32, 7, 25, 25, 33, 43, 14, 43, 43, 15, 49, 43, 49, 43, 7, 32, 43, 16, 43, 43, 43, 7, 26, 8, 43, 7, 25, 48, 8, 43, 16, 8, 43, 15, 43, 43, 14, 33, 25, 14, 25, 25, 25, 25, 14, 8, 25, 25, 13, 8, 33, 12, 2]\n"
          ]
        }
      ],
      "source": [
        "print(len(df[\"full_input_format_delimited\"][0]))\n",
        "print(sp.encode_as_pieces(df[\"full_input_format_delimited\"][0]))\n",
        "print(sp.encode_as_ids(df[\"full_input_format_delimited\"][0]))"
      ]
    },
    {
      "cell_type": "markdown",
      "metadata": {
        "id": "AhPs19hDPXrf"
      },
      "source": [
        "Convert reaction smarts to fingerprints"
      ]
    },
    {
      "cell_type": "code",
      "execution_count": null,
      "metadata": {
        "colab": {
          "base_uri": "https://localhost:8080/"
        },
        "id": "_YM2cCDxOy7o",
        "outputId": "ae21f9ce-46fb-4e44-9337-e5f0d9cc160e"
      },
      "outputs": [
        {
          "data": {
            "text/plain": [
              "rdkit.Chem.rdChemReactions.FingerprintType.AtomPairFP"
            ]
          },
          "execution_count": 18,
          "metadata": {},
          "output_type": "execute_result"
        }
      ],
      "source": [
        "from rdkit import Chem\n",
        "params = Chem.rdChemReactions.ReactionFingerprintParams()\n",
        "params.fpSize = 2048\n",
        "df[\"rxn\"] = df.apply(lambda x: Chem.rdChemReactions.ReactionFromSmarts(\n",
        "    x[\"full_input_format\"], useSmiles=True), axis=1)\n",
        "df[\"fingerprint\"] = df.apply(\n",
        "    lambda x: Chem.rdChemReactions.CreateDifferenceFingerprintForReaction(x[\"rxn\"], params), axis=1)"
      ]
    },
    {
      "cell_type": "markdown",
      "metadata": {
        "id": "t4GiWi3-Czah"
      },
      "source": [
        "Now we can tokenize the training data:"
      ]
    },
    {
      "cell_type": "code",
      "execution_count": null,
      "metadata": {
        "id": "CktUIo7RPeuv"
      },
      "outputs": [],
      "source": [
        "PAD_TOKEN = sp.encode_as_ids(\"[PAD]\")[1]\n",
        "BOS_TOKEN = sp.encode_as_ids(\"[BOS]\")[1]\n",
        "\n",
        "\n",
        "def tokenize_and_pad(df, max_len=0):\n",
        "    # choose to set the max_len based on a user entered value or the one derived from the data\n",
        "    if max_len == 0:\n",
        "        max_val = df[\"input_ids\"].str.len().sort_values(\n",
        "            ascending=False).head(1).values[0]\n",
        "        print(max_val)\n",
        "        return\n",
        "    else:\n",
        "        max_val = max_len\n",
        "    # Create the encoded columns\n",
        "    df[\"input_ids\"] = df[\"full_input_format_delimited\"].apply(\n",
        "        sp.encode_as_ids).apply(lambda x: x[1:])\n",
        "    df_new = df[df[\"input_ids\"].apply(len) <= max_val].copy()\n",
        "    print(\"removed \", df.shape[0]-df_new.shape[0], \" samples\")\n",
        "\n",
        "    # calculate how much to pad for each case\n",
        "    df_new[\"input_counts\"] = max_val-df_new[\"input_ids\"].str.len()\n",
        "\n",
        "    # pad with the PAD_TOKEN\n",
        "    df_new[\"input_ids\"] = df_new.apply(lambda row: np.pad(\n",
        "        row[\"input_ids\"], (0, row[\"input_counts\"]), mode='constant', constant_values=(0, PAD_TOKEN)), axis=1)\n",
        "\n",
        "    return np.asarray(df_new[\"input_ids\"].values.tolist()), max_val, df_new\n",
        "\n",
        "\n",
        "train_inputs, train_input_len, df_with_max_200 = tokenize_and_pad(df, 200)\n",
        "df_with_max_200[\"input_ids\"].str.len().sort_values()"
      ]
    },
    {
      "cell_type": "code",
      "execution_count": null,
      "metadata": {
        "colab": {
          "base_uri": "https://localhost:8080/",
          "height": 162
        },
        "id": "vlm7oS42HLmX",
        "outputId": "f01a8cd7-da17-4f54-8c0c-4c911283fabf"
      },
      "outputs": [
        {
          "data": {
            "application/vnd.google.colaboratory.intrinsic+json": {
              "type": "string"
            },
            "text/plain": [
              "'[BOS]COC(=O)c1cc(CCCc2cc3c(=O)[nH]c(N)nc3[nH]2)cs1>>Nc1nc2[nH]c(CCCc3csc(C(=O)O)c3)cc2c(=O)[nH]1[EOS][PAD][PAD][PAD][PAD][PAD][PAD][PAD][PAD][PAD][PAD][PAD][PAD][PAD][PAD][PAD][PAD][PAD][PAD][PAD][PAD][PAD][PAD][PAD][PAD][PAD][PAD][PAD][PAD][PAD][PAD][PAD][PAD][PAD][PAD][PAD][PAD][PAD][PAD][PAD][PAD][PAD][PAD][PAD][PAD][PAD][PAD][PAD][PAD][PAD][PAD][PAD][PAD][PAD][PAD][PAD][PAD][PAD][PAD][PAD][PAD][PAD][PAD][PAD][PAD][PAD][PAD][PAD][PAD][PAD][PAD][PAD][PAD][PAD][PAD][PAD][PAD][PAD][PAD][PAD][PAD][PAD][PAD][PAD][PAD][PAD][PAD][PAD][PAD][PAD][PAD][PAD][PAD][PAD][PAD][PAD][PAD][PAD][PAD][PAD][PAD][PAD][PAD][PAD][PAD][PAD][PAD][PAD]'"
            ]
          },
          "execution_count": 16,
          "metadata": {},
          "output_type": "execute_result"
        }
      ],
      "source": [
        "sp.decode_ids(train_inputs[1].tolist())"
      ]
    },
    {
      "cell_type": "code",
      "execution_count": null,
      "metadata": {},
      "outputs": [],
      "source": [
        "fingerprints = []\n",
        "for i in df_with_max_200.index:\n",
        "    array = np.zeros((0, ), dtype=np.float64)\n",
        "    Chem.DataStructs.ConvertToNumpyArray(\n",
        "        df_with_max_200.loc[i, \"fingerprint\"], array)\n",
        "    fingerprints.append(array)\n",
        "len(fingerprints)"
      ]
    },
    {
      "cell_type": "code",
      "execution_count": null,
      "metadata": {
        "colab": {
          "base_uri": "https://localhost:8080/"
        },
        "id": "z_0F6WHbIKkw",
        "outputId": "511c6eb9-83d8-43d2-9039-057846ea7f49"
      },
      "outputs": [
        {
          "name": "stdout",
          "output_type": "stream",
          "text": [
            "181 9\n",
            "inertia: 84.64804907413179\n"
          ]
        },
        {
          "name": "stderr",
          "output_type": "stream",
          "text": [
            "/usr/local/lib/python3.7/dist-packages/sklearn/metrics/pairwise.py:1870: DataConversionWarning: Data was converted to boolean for metric jaccard\n",
            "  warnings.warn(msg, DataConversionWarning)\n",
            "/usr/local/lib/python3.7/dist-packages/sklearn/metrics/pairwise.py:1870: DataConversionWarning: Data was converted to boolean for metric jaccard\n",
            "  warnings.warn(msg, DataConversionWarning)\n"
          ]
        },
        {
          "data": {
            "text/plain": [
              "9"
            ]
          },
          "execution_count": 45,
          "metadata": {},
          "output_type": "execute_result"
        }
      ],
      "source": [
        "\"\"\"df_rxn_10=df[(df[\"reaction_type\"]==\"<RX_10>\")].copy()\n",
        "train_inputs,train_input_len,df_rxn_10_max_200=tokenize_and_pad(df_rxn_10,200)\n",
        "fingerprints=[]\n",
        "for i in df_rxn_10_max_200.index:\n",
        "  array=np.zeros((0, ), dtype=np.float64)\n",
        "  Chem.DataStructs.ConvertToNumpyArray(df_rxn_10_max_200.loc[i,\"fingerprint\"], array)\n",
        "  fingerprints.append(array)\n",
        "with open(os.path.join(train_path,\"train_targets_ids_200_rxn10.data\"), \"w\") as f:\n",
        "  np.savetxt(f, train_inputs,newline='\\n')\n",
        "with open(os.path.join(train_path,\"train_targets_ids_fingerprints_200_rxn10.data\"), \"w\") as f:\n",
        "  np.savetxt(f, fingerprints,newline='\\n')\n",
        "\n",
        "import numpy as np\n",
        "from sklearn_extra.cluster import KMedoids\n",
        "from time import time\n",
        "fingerprints_10=[]\n",
        "for i in df_with_max_200.index:\n",
        "  if(df_with_max_200.loc[i,\"reaction_type\"]==\"<RX_10>\"):\n",
        "    array=np.zeros((0, ), dtype=np.float64)\n",
        "    Chem.DataStructs.ConvertToNumpyArray(df_with_max_200.loc[i,\"fingerprint\"], array)\n",
        "    fingerprints_10.append(array)\n",
        "def find_centroids(,fps):\n",
        "  centroids=[]\n",
        "  cluster_els=fps\n",
        "  nb_of_clusters=int(np.floor(len(cluster_els)*0.05))\n",
        "  print(len(cluster_els),nb_of_clusters)\n",
        "  kmed=KMedoids(metric='jaccard',n_clusters=nb_of_clusters, random_state=48,init='k-medoids++').fit(cluster_els)\n",
        "  centroids.append(kmed.cluster_centers_)\n",
        "  print(\"inertia:\",kmed.inertia_)\n",
        "  return np.vstack(centroids)\n",
        "\n",
        "\n",
        "centroids=find_centroids(np.array(fingerprints_10))\n",
        "centroids_strings=[]\n",
        "for i in centroids:\n",
        "  select=[np.array_equal(i,j) for j in fingerprints]\n",
        "  if(np.sum(select))>0:\n",
        "    centroids_strings.append(train_inputs[select][0])\n",
        "    print(len(centroids_strings))\n",
        "print(len(centroids_strings))\n",
        "with open(os.path.join(train_path,\"centroids_strings_200_rxn10.data\"), \"w\") as f:\n",
        "  np.savetxt(f, centroids_strings,newline='\\n')\n",
        "with open(os.path.join(train_path,\"centroids_200_rxn10.data\"), \"w\") as f:\n",
        "  np.savetxt(f, centroids,newline='\\n')\n",
        "\"\"\""
      ]
    },
    {
      "cell_type": "code",
      "execution_count": null,
      "metadata": {
        "colab": {
          "base_uri": "https://localhost:8080/"
        },
        "id": "hH1g79_V7mZB",
        "outputId": "8d1265ff-958e-4ff1-b0c7-9d9a60542e01"
      },
      "outputs": [
        {
          "name": "stdout",
          "output_type": "stream",
          "text": [
            "removed  0  samples\n",
            "181 9\n"
          ]
        },
        {
          "name": "stderr",
          "output_type": "stream",
          "text": [
            "/usr/local/lib/python3.7/dist-packages/sklearn/metrics/pairwise.py:1870: DataConversionWarning: Data was converted to boolean for metric jaccard\n",
            "  warnings.warn(msg, DataConversionWarning)\n",
            "/usr/local/lib/python3.7/dist-packages/sklearn/metrics/pairwise.py:1870: DataConversionWarning: Data was converted to boolean for metric jaccard\n",
            "  warnings.warn(msg, DataConversionWarning)\n"
          ]
        },
        {
          "name": "stdout",
          "output_type": "stream",
          "text": [
            "inertia: 84.64804907413179\n",
            "<RX_10> 0.4502129246939205\n",
            "<RX_10> 0.7959826731307652\n",
            "removed  93  samples\n",
            "12005 600\n"
          ]
        },
        {
          "name": "stderr",
          "output_type": "stream",
          "text": [
            "/usr/local/lib/python3.7/dist-packages/sklearn/metrics/pairwise.py:1870: DataConversionWarning: Data was converted to boolean for metric jaccard\n",
            "  warnings.warn(msg, DataConversionWarning)\n",
            "/usr/local/lib/python3.7/dist-packages/sklearn/metrics/pairwise.py:1870: DataConversionWarning: Data was converted to boolean for metric jaccard\n",
            "  warnings.warn(msg, DataConversionWarning)\n"
          ]
        },
        {
          "name": "stdout",
          "output_type": "stream",
          "text": [
            "inertia: 7209.851408916508\n",
            "<RX_1> 0.2647825602319377\n",
            "<RX_1> 0.8545752868265527\n",
            "removed  183  samples\n",
            "9348 467\n"
          ]
        },
        {
          "name": "stderr",
          "output_type": "stream",
          "text": [
            "/usr/local/lib/python3.7/dist-packages/sklearn/metrics/pairwise.py:1870: DataConversionWarning: Data was converted to boolean for metric jaccard\n",
            "  warnings.warn(msg, DataConversionWarning)\n",
            "/usr/local/lib/python3.7/dist-packages/sklearn/metrics/pairwise.py:1870: DataConversionWarning: Data was converted to boolean for metric jaccard\n",
            "  warnings.warn(msg, DataConversionWarning)\n"
          ]
        },
        {
          "name": "stdout",
          "output_type": "stream",
          "text": [
            "inertia: 5421.6632059248595\n",
            "<RX_2> 0.28677729327835366\n",
            "<RX_2> 0.8478851261103875\n",
            "removed  66  samples\n",
            "4445 222\n"
          ]
        },
        {
          "name": "stderr",
          "output_type": "stream",
          "text": [
            "/usr/local/lib/python3.7/dist-packages/sklearn/metrics/pairwise.py:1870: DataConversionWarning: Data was converted to boolean for metric jaccard\n",
            "  warnings.warn(msg, DataConversionWarning)\n",
            "/usr/local/lib/python3.7/dist-packages/sklearn/metrics/pairwise.py:1870: DataConversionWarning: Data was converted to boolean for metric jaccard\n",
            "  warnings.warn(msg, DataConversionWarning)\n"
          ]
        },
        {
          "name": "stdout",
          "output_type": "stream",
          "text": [
            "inertia: 2602.3970624328504\n",
            "<RX_3> 0.27275665481163247\n",
            "<RX_3> 0.8324490985501043\n",
            "removed  2  samples\n",
            "718 35\n"
          ]
        },
        {
          "name": "stderr",
          "output_type": "stream",
          "text": [
            "/usr/local/lib/python3.7/dist-packages/sklearn/metrics/pairwise.py:1870: DataConversionWarning: Data was converted to boolean for metric jaccard\n",
            "  warnings.warn(msg, DataConversionWarning)\n",
            "/usr/local/lib/python3.7/dist-packages/sklearn/metrics/pairwise.py:1870: DataConversionWarning: Data was converted to boolean for metric jaccard\n",
            "  warnings.warn(msg, DataConversionWarning)\n"
          ]
        },
        {
          "name": "stdout",
          "output_type": "stream",
          "text": [
            "inertia: 458.1381885603014\n",
            "<RX_4> 0.22878830031247632\n",
            "<RX_4> 0.8189646524713752\n",
            "removed  1  samples\n",
            "519 25\n"
          ]
        },
        {
          "name": "stderr",
          "output_type": "stream",
          "text": [
            "/usr/local/lib/python3.7/dist-packages/sklearn/metrics/pairwise.py:1870: DataConversionWarning: Data was converted to boolean for metric jaccard\n",
            "  warnings.warn(msg, DataConversionWarning)\n",
            "/usr/local/lib/python3.7/dist-packages/sklearn/metrics/pairwise.py:1870: DataConversionWarning: Data was converted to boolean for metric jaccard\n",
            "  warnings.warn(msg, DataConversionWarning)\n"
          ]
        },
        {
          "name": "stdout",
          "output_type": "stream",
          "text": [
            "inertia: 242.2591721762606\n",
            "<RX_5> 0.43261639618025505\n",
            "<RX_5> 0.8470738431505647\n",
            "removed  94  samples\n",
            "6589 329\n"
          ]
        },
        {
          "name": "stderr",
          "output_type": "stream",
          "text": [
            "/usr/local/lib/python3.7/dist-packages/sklearn/metrics/pairwise.py:1870: DataConversionWarning: Data was converted to boolean for metric jaccard\n",
            "  warnings.warn(msg, DataConversionWarning)\n",
            "/usr/local/lib/python3.7/dist-packages/sklearn/metrics/pairwise.py:1870: DataConversionWarning: Data was converted to boolean for metric jaccard\n",
            "  warnings.warn(msg, DataConversionWarning)\n"
          ]
        },
        {
          "name": "stdout",
          "output_type": "stream",
          "text": [
            "inertia: 3439.323776330227\n",
            "<RX_6> 0.37884072375040867\n",
            "<RX_6> 0.8491694432904666\n",
            "removed  20  samples\n",
            "3647 182\n"
          ]
        },
        {
          "name": "stderr",
          "output_type": "stream",
          "text": [
            "/usr/local/lib/python3.7/dist-packages/sklearn/metrics/pairwise.py:1870: DataConversionWarning: Data was converted to boolean for metric jaccard\n",
            "  warnings.warn(msg, DataConversionWarning)\n",
            "/usr/local/lib/python3.7/dist-packages/sklearn/metrics/pairwise.py:1870: DataConversionWarning: Data was converted to boolean for metric jaccard\n",
            "  warnings.warn(msg, DataConversionWarning)\n"
          ]
        },
        {
          "name": "stdout",
          "output_type": "stream",
          "text": [
            "inertia: 1946.0618606799903\n",
            "<RX_7> 0.36565196419899726\n",
            "<RX_7> 0.8547592929451419\n",
            "removed  5  samples\n",
            "646 32\n"
          ]
        },
        {
          "name": "stderr",
          "output_type": "stream",
          "text": [
            "/usr/local/lib/python3.7/dist-packages/sklearn/metrics/pairwise.py:1870: DataConversionWarning: Data was converted to boolean for metric jaccard\n",
            "  warnings.warn(msg, DataConversionWarning)\n",
            "/usr/local/lib/python3.7/dist-packages/sklearn/metrics/pairwise.py:1870: DataConversionWarning: Data was converted to boolean for metric jaccard\n",
            "  warnings.warn(msg, DataConversionWarning)\n"
          ]
        },
        {
          "name": "stdout",
          "output_type": "stream",
          "text": [
            "inertia: 372.4908224078514\n",
            "<RX_8> 0.3287177408055372\n",
            "<RX_8> 0.836979295515362\n",
            "removed  10  samples\n",
            "1457 72\n"
          ]
        },
        {
          "name": "stderr",
          "output_type": "stream",
          "text": [
            "/usr/local/lib/python3.7/dist-packages/sklearn/metrics/pairwise.py:1870: DataConversionWarning: Data was converted to boolean for metric jaccard\n",
            "  warnings.warn(msg, DataConversionWarning)\n",
            "/usr/local/lib/python3.7/dist-packages/sklearn/metrics/pairwise.py:1870: DataConversionWarning: Data was converted to boolean for metric jaccard\n",
            "  warnings.warn(msg, DataConversionWarning)\n"
          ]
        },
        {
          "name": "stdout",
          "output_type": "stream",
          "text": [
            "inertia: 911.5870378703984\n",
            "<RX_9> 0.285955077156394\n",
            "<RX_9> 0.8390922577237193\n"
          ]
        }
      ],
      "source": [
        "\"\"\"import numpy as np\n",
        "from sklearn_extra.cluster import KMedoids\n",
        "from time import time\n",
        "def find_centroids(fps):\n",
        "    centroids=[]\n",
        "    cluster_els=fps\n",
        "    nb_of_clusters=int(np.floor(len(cluster_els)*0.05))\n",
        "    print(len(cluster_els),nb_of_clusters)\n",
        "    kmed=KMedoids(metric='jaccard',n_clusters=nb_of_clusters, random_state=48,init='k-medoids++').fit(cluster_els)\n",
        "    centroids.append(kmed.cluster_centers_)\n",
        "    print(\"inertia:\",kmed.inertia_)\n",
        "    return np.vstack(centroids)\n",
        "from scipy.spatial.distance import cdist\n",
        "def similarity(fps,centroids,metric):\n",
        "  if len(fps)>0:\n",
        "    sims=cdist(fps,centroids,metric)\n",
        "    return 1-np.mean(np.min(sims,axis=1)),np.min(sims,axis=1)\n",
        "  else:\n",
        "    return 0,0\n",
        "\n",
        "for el in [\"<RX_10>\",\"<RX_1>\",\"<RX_2>\",\"<RX_3>\",\"<RX_4>\",\"<RX_5>\",\"<RX_6>\",\"<RX_7>\",\"<RX_8>\",\"<RX_9>\"]:\n",
        "  df_rxn_10=df[(df[\"reaction_type\"]==el)].copy()\n",
        "  train_inputs,train_input_len,df_rxn_10_max_200=tokenize_and_pad(df_rxn_10,200)\n",
        "  fingerprints=[]\n",
        "  for i in df_rxn_10_max_200.index:\n",
        "    array=np.zeros((0, ), dtype=np.float64)\n",
        "    Chem.DataStructs.ConvertToNumpyArray(df_rxn_10_max_200.loc[i,\"fingerprint\"], array)\n",
        "    fingerprints.append(array)\n",
        "\n",
        "  centroids=find_centroids(np.array(fingerprints))\n",
        "  centroids_strings=[]\n",
        "  for i in centroids:\n",
        "    select=[np.array_equal(i,j) for j in fingerprints]\n",
        "    if(np.sum(select))>0:\n",
        "      centroids_strings.append(train_inputs[select][0])\n",
        "  print(el,similarity(fingerprints,centroids,\"jaccard\")[0])\n",
        "  print(el,similarity(train_inputs,centroids_strings,\"cosine\")[0])\n",
        "\"\"\""
      ]
    },
    {
      "cell_type": "markdown",
      "metadata": {
        "id": "ssPNp_Xo7otT"
      },
      "source": [
        "Now let's create the pipeline for validation and test data:"
      ]
    },
    {
      "cell_type": "code",
      "execution_count": null,
      "metadata": {
        "id": "cEOWBql17yVC"
      },
      "outputs": [],
      "source": [
        "def data_to_Ids_pipeline(reactants_df, products_df, max_len=0):\n",
        "    dfa = process_dfs(reactants_df, products_df)\n",
        "    prepare_whole_reaction_padded(dfa)\n",
        "    inputs, input_len, dfa_new = tokenize_and_pad(dfa, max_len)\n",
        "    return dfa_new, inputs, input_len"
      ]
    },
    {
      "cell_type": "code",
      "execution_count": null,
      "metadata": {
        "id": "SU-jmsWh-jCp"
      },
      "outputs": [],
      "source": [
        "valid_products_df = pd.read_csv(os.path.join(\n",
        "    validation_path, \"valid_sources.txt\"), header=None)\n",
        "valid_reactants_df = pd.read_csv(os.path.join(\n",
        "    validation_path, \"valid_targets.txt\"), header=None)\n",
        "\n",
        "test_products_df = pd.read_csv(os.path.join(\n",
        "    test_path, \"test_sources.txt\"), header=None)\n",
        "test_reactants_df = pd.read_csv(os.path.join(\n",
        "    test_path, \"test_targets.txt\"), header=None)\n",
        "valid_df, valid_inputs, valid_input_len = data_to_Ids_pipeline(\n",
        "    valid_reactants_df, valid_products_df, max_len=200)\n",
        "\n",
        "test_df, test_inputs, test_input_len = data_to_Ids_pipeline(\n",
        "    test_reactants_df, test_products_df, max_len=200)\n",
        "print(\"Shape of validation Ids inputs:\", valid_inputs.shape)\n",
        "print(\"Shape of Test Ids inputs:\",  test_inputs.shape)"
      ]
    },
    {
      "cell_type": "code",
      "execution_count": null,
      "metadata": {
        "id": "XzcK08uM-Nix"
      },
      "outputs": [],
      "source": [
        "with open(os.path.join(train_path, \"train_targets_ids_200.data\"), \"w\") as f:\n",
        "    np.savetxt(f, train_inputs, newline='\\n')\n",
        "with open(os.path.join(validation_path, \"validation_targets_ids_200.data\"), \"w\") as f:\n",
        "    np.savetxt(f, valid_inputs, newline='\\n')\n",
        "with open(os.path.join(test_path, \"test_targets_ids_200.data\"), \"w\") as f:\n",
        "    np.savetxt(f, test_inputs, newline='\\n')\n",
        "\n",
        "with open(os.path.join(train_path, \"train_targets_ids_200.txt\"), \"w\") as f:\n",
        "    np.savetxt(f, train_inputs, newline='\\n')\n",
        "with open(os.path.join(validation_path, \"validation_targets_ids_200.txt\"), \"w\") as f:\n",
        "    np.savetxt(f, valid_inputs, newline='\\n')\n",
        "with open(os.path.join(test_path, \"test_targets_ids_200.txt\"), \"w\") as f:\n",
        "    np.savetxt(f, test_inputs, newline='\\n')\n",
        "\n",
        "with open(os.path.join(train_path, \"train_targets_rxns_200.data\"), \"w\") as f:\n",
        "    np.savetxt(f, df_with_max_200[\"reaction_type\"].str.replace(\"<RX_\", \"\").str.replace(\n",
        "        \">\", \"\").apply(lambda x: 0 if int(x) == 10 else int(x)).values, newline='\\n')\n",
        "with open(os.path.join(train_path, \"train_targets_ids_fingerprints_200.data\"), \"w\") as f:\n",
        "    np.savetxt(f, fingerprints, newline='\\n')"
      ]
    },
    {
      "cell_type": "markdown",
      "metadata": {
        "id": "2Ic7CZrAmVf2"
      },
      "source": [
        "#### Using Kmedoids to select the clusters representative of each class:"
      ]
    },
    {
      "cell_type": "code",
      "execution_count": null,
      "metadata": {
        "colab": {
          "base_uri": "https://localhost:8080/"
        },
        "id": "P2oDWPs1obBN",
        "outputId": "ec0c4366-d828-42d6-d11e-7ddff7eb2605"
      },
      "outputs": [
        {
          "name": "stdout",
          "output_type": "stream",
          "text": [
            "12009 600\n"
          ]
        },
        {
          "name": "stderr",
          "output_type": "stream",
          "text": [
            "/usr/local/lib/python3.7/dist-packages/sklearn/metrics/pairwise.py:1738: DataConversionWarning: Data was converted to boolean for metric jaccard\n",
            "  warnings.warn(msg, DataConversionWarning)\n",
            "/usr/local/lib/python3.7/dist-packages/sklearn/metrics/pairwise.py:1738: DataConversionWarning: Data was converted to boolean for metric jaccard\n",
            "  warnings.warn(msg, DataConversionWarning)\n"
          ]
        },
        {
          "name": "stdout",
          "output_type": "stream",
          "text": [
            "inertia: 7214.776284755243\n",
            "9351 467\n"
          ]
        },
        {
          "name": "stderr",
          "output_type": "stream",
          "text": [
            "/usr/local/lib/python3.7/dist-packages/sklearn/metrics/pairwise.py:1738: DataConversionWarning: Data was converted to boolean for metric jaccard\n",
            "  warnings.warn(msg, DataConversionWarning)\n",
            "/usr/local/lib/python3.7/dist-packages/sklearn/metrics/pairwise.py:1738: DataConversionWarning: Data was converted to boolean for metric jaccard\n",
            "  warnings.warn(msg, DataConversionWarning)\n"
          ]
        },
        {
          "name": "stdout",
          "output_type": "stream",
          "text": [
            "inertia: 5427.790960606616\n",
            "4448 222\n"
          ]
        },
        {
          "name": "stderr",
          "output_type": "stream",
          "text": [
            "/usr/local/lib/python3.7/dist-packages/sklearn/metrics/pairwise.py:1738: DataConversionWarning: Data was converted to boolean for metric jaccard\n",
            "  warnings.warn(msg, DataConversionWarning)\n",
            "/usr/local/lib/python3.7/dist-packages/sklearn/metrics/pairwise.py:1738: DataConversionWarning: Data was converted to boolean for metric jaccard\n",
            "  warnings.warn(msg, DataConversionWarning)\n"
          ]
        },
        {
          "name": "stdout",
          "output_type": "stream",
          "text": [
            "inertia: 2604.2278944055706\n",
            "718 35\n"
          ]
        },
        {
          "name": "stderr",
          "output_type": "stream",
          "text": [
            "/usr/local/lib/python3.7/dist-packages/sklearn/metrics/pairwise.py:1738: DataConversionWarning: Data was converted to boolean for metric jaccard\n",
            "  warnings.warn(msg, DataConversionWarning)\n",
            "/usr/local/lib/python3.7/dist-packages/sklearn/metrics/pairwise.py:1738: DataConversionWarning: Data was converted to boolean for metric jaccard\n",
            "  warnings.warn(msg, DataConversionWarning)\n",
            "/usr/local/lib/python3.7/dist-packages/sklearn/metrics/pairwise.py:1738: DataConversionWarning: Data was converted to boolean for metric jaccard\n",
            "  warnings.warn(msg, DataConversionWarning)\n"
          ]
        },
        {
          "name": "stdout",
          "output_type": "stream",
          "text": [
            "inertia: 458.1381885603014\n",
            "519 25\n"
          ]
        },
        {
          "name": "stderr",
          "output_type": "stream",
          "text": [
            "/usr/local/lib/python3.7/dist-packages/sklearn/metrics/pairwise.py:1738: DataConversionWarning: Data was converted to boolean for metric jaccard\n",
            "  warnings.warn(msg, DataConversionWarning)\n",
            "/usr/local/lib/python3.7/dist-packages/sklearn/metrics/pairwise.py:1738: DataConversionWarning: Data was converted to boolean for metric jaccard\n",
            "  warnings.warn(msg, DataConversionWarning)\n"
          ]
        },
        {
          "name": "stdout",
          "output_type": "stream",
          "text": [
            "inertia: 242.2591721762606\n",
            "6592 329\n"
          ]
        },
        {
          "name": "stderr",
          "output_type": "stream",
          "text": [
            "/usr/local/lib/python3.7/dist-packages/sklearn/metrics/pairwise.py:1738: DataConversionWarning: Data was converted to boolean for metric jaccard\n",
            "  warnings.warn(msg, DataConversionWarning)\n"
          ]
        },
        {
          "name": "stdout",
          "output_type": "stream",
          "text": [
            "inertia: 3456.3327615582803\n",
            "3648 182\n"
          ]
        },
        {
          "name": "stderr",
          "output_type": "stream",
          "text": [
            "/usr/local/lib/python3.7/dist-packages/sklearn/metrics/pairwise.py:1738: DataConversionWarning: Data was converted to boolean for metric jaccard\n",
            "  warnings.warn(msg, DataConversionWarning)\n",
            "/usr/local/lib/python3.7/dist-packages/sklearn/metrics/pairwise.py:1738: DataConversionWarning: Data was converted to boolean for metric jaccard\n",
            "  warnings.warn(msg, DataConversionWarning)\n"
          ]
        },
        {
          "name": "stdout",
          "output_type": "stream",
          "text": [
            "inertia: 1938.6481467155695\n",
            "646 32\n"
          ]
        },
        {
          "name": "stderr",
          "output_type": "stream",
          "text": [
            "/usr/local/lib/python3.7/dist-packages/sklearn/metrics/pairwise.py:1738: DataConversionWarning: Data was converted to boolean for metric jaccard\n",
            "  warnings.warn(msg, DataConversionWarning)\n",
            "/usr/local/lib/python3.7/dist-packages/sklearn/metrics/pairwise.py:1738: DataConversionWarning: Data was converted to boolean for metric jaccard\n",
            "  warnings.warn(msg, DataConversionWarning)\n",
            "/usr/local/lib/python3.7/dist-packages/sklearn/metrics/pairwise.py:1738: DataConversionWarning: Data was converted to boolean for metric jaccard\n",
            "  warnings.warn(msg, DataConversionWarning)\n"
          ]
        },
        {
          "name": "stdout",
          "output_type": "stream",
          "text": [
            "inertia: 372.4908224078514\n",
            "1457 72\n"
          ]
        },
        {
          "name": "stderr",
          "output_type": "stream",
          "text": [
            "/usr/local/lib/python3.7/dist-packages/sklearn/metrics/pairwise.py:1738: DataConversionWarning: Data was converted to boolean for metric jaccard\n",
            "  warnings.warn(msg, DataConversionWarning)\n"
          ]
        },
        {
          "name": "stdout",
          "output_type": "stream",
          "text": [
            "inertia: 911.5870378703984\n",
            "181 9\n",
            "inertia: 84.64804907413179\n"
          ]
        },
        {
          "name": "stderr",
          "output_type": "stream",
          "text": [
            "/usr/local/lib/python3.7/dist-packages/sklearn/metrics/pairwise.py:1738: DataConversionWarning: Data was converted to boolean for metric jaccard\n",
            "  warnings.warn(msg, DataConversionWarning)\n",
            "/usr/local/lib/python3.7/dist-packages/sklearn/metrics/pairwise.py:1738: DataConversionWarning: Data was converted to boolean for metric jaccard\n",
            "  warnings.warn(msg, DataConversionWarning)\n"
          ]
        }
      ],
      "source": [
        "import numpy as np\n",
        "from sklearn_extra.cluster import KMedoids\n",
        "from rdkit import Chem\n",
        "\n",
        "\n",
        "def find_centroids(clusters, fps):\n",
        "    unique_clusters = np.unique(clusters)\n",
        "    centroids = []\n",
        "    for cluster in unique_clusters:\n",
        "        cluster_els = fps[np.where(clusters == cluster)]\n",
        "        nb_of_clusters = int(np.floor(len(cluster_els)*0.05))\n",
        "        print(len(cluster_els), nb_of_clusters)\n",
        "        kmed = KMedoids(metric='jaccard', n_clusters=nb_of_clusters,\n",
        "                        random_state=48, init='k-medoids++').fit(cluster_els)\n",
        "        centroids.append(kmed.cluster_centers_)\n",
        "        print(\"inertia:\", kmed.inertia_)\n",
        "    return np.vstack(centroids)\n",
        "\n",
        "\n",
        "reactions_nb = [int(t.replace(\"<RX_\", \"\").replace(\">\", \"\"))\n",
        "                for t in df_with_max_200[\"reaction_type\"]]\n",
        "centroids = find_centroids(reactions_nb, np.array(fingerprints))\n",
        "centroids_strings = []\n",
        "for i in centroids:\n",
        "    select = [np.array_equal(i, j) for j in fingerprints]\n",
        "    if (np.sum(select)) > 0:\n",
        "        centroids_strings.append(train_inputs[select][0])\n",
        "        print(len(centroids_strings))\n",
        "print(len(centroids_strings))"
      ]
    },
    {
      "cell_type": "code",
      "execution_count": null,
      "metadata": {
        "id": "7J9FpnGvZSK5"
      },
      "outputs": [],
      "source": [
        "with open(os.path.join(train_path, \"centroids_200.data\"), \"w\") as f:\n",
        "    np.savetxt(f, centroids, newline='\\n')\n",
        "with open(os.path.join(train_path, \"centroids_strings_200.data\"), \"w\") as f:\n",
        "    np.savetxt(f, centroids_strings, newline='\\n')"
      ]
    }
  ],
  "metadata": {
    "accelerator": "GPU",
    "colab": {
      "collapsed_sections": [
        "mbvvQqoJeUfv",
        "YZEsv28mqhHD",
        "MMB9HpSLQvZO",
        "S3AAk2X-Q9UJ",
        "2Ic7CZrAmVf2",
        "h7lGvtQmK7WP",
        "NU0Aqug_QScy",
        "3efsDkBdKHxz",
        "AuE1LKbtIown",
        "EPr9S1rhJE0W",
        "_MUNqnusJvyt",
        "EuuPTy59Ip4R",
        "52OpxGUxXuxD",
        "1UA79jNryIZD",
        "Z846WjDmyNGj",
        "54xsZm1ayUFc"
      ],
      "provenance": []
    },
    "kernelspec": {
      "display_name": "Python 3",
      "name": "python3"
    }
  },
  "nbformat": 4,
  "nbformat_minor": 0
}
